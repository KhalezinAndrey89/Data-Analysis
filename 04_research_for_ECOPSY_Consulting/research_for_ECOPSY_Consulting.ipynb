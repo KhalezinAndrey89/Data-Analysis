{
 "cells": [
  {
   "cell_type": "markdown",
   "metadata": {
    "id": "slfh6WL5Ethx"
   },
   "source": [
    "# **ЭКОПСИ Консалтинг** \n",
    "\n",
    "## Описание данных:\n",
    "Вам представлены данные о доходах сотрудников участка горячего проката за год, в том числе данные, описывающие специфику рабочих мест.\n",
    "## Задание:\n",
    "* Выявите тип и формулу зависимости оклада, премии и доплат от приведенных в таблице данных.\n",
    "* Выявите все возможные зависимости между размерами оклада, премии и доплат.\n",
    "\n"
   ]
  },
  {
   "cell_type": "markdown",
   "metadata": {
    "id": "z17YlD4RE32V"
   },
   "source": [
    "# 1. Подготовка данных:"
   ]
  },
  {
   "cell_type": "markdown",
   "metadata": {
    "id": "ByibnYq2iBTN"
   },
   "source": [
    "Подключим нужные библиотеки:"
   ]
  },
  {
   "cell_type": "code",
   "execution_count": 1,
   "metadata": {
    "colab": {
     "base_uri": "https://localhost:8080/"
    },
    "id": "Q8CM9GbSElHF",
    "outputId": "23277850-dd46-4790-e57c-b4c33aeca121"
   },
   "outputs": [
    {
     "name": "stdout",
     "output_type": "stream",
     "text": [
      "Mounted at /content/drive\n"
     ]
    }
   ],
   "source": [
    "import matplotlib.pyplot as plt\n",
    "import pandas as pd\n",
    "import numpy as np\n",
    "\n",
    "from google.colab import drive\n",
    "drive.mount('/content/drive', force_remount=True)"
   ]
  },
  {
   "cell_type": "markdown",
   "metadata": {
    "id": "vWq4HwBwiJu4"
   },
   "source": [
    "Выведем первичную информацию:"
   ]
  },
  {
   "cell_type": "code",
   "execution_count": 2,
   "metadata": {
    "colab": {
     "base_uri": "https://localhost:8080/",
     "height": 204
    },
    "id": "t1CiYIAsHmyX",
    "outputId": "44f6938d-8ca6-4a6f-bb07-92fa1a2cc12e"
   },
   "outputs": [
    {
     "data": {
      "text/html": [
       "<div>\n",
       "<style scoped>\n",
       "    .dataframe tbody tr th:only-of-type {\n",
       "        vertical-align: middle;\n",
       "    }\n",
       "\n",
       "    .dataframe tbody tr th {\n",
       "        vertical-align: top;\n",
       "    }\n",
       "\n",
       "    .dataframe thead th {\n",
       "        text-align: right;\n",
       "    }\n",
       "</style>\n",
       "<table border=\"1\" class=\"dataframe\">\n",
       "  <thead>\n",
       "    <tr style=\"text-align: right;\">\n",
       "      <th></th>\n",
       "      <th>Месяц</th>\n",
       "      <th>Профессия</th>\n",
       "      <th>Разряд</th>\n",
       "      <th>Оборудование</th>\n",
       "      <th>Вредность (балл.)</th>\n",
       "      <th>Объем производства</th>\n",
       "      <th>Доход</th>\n",
       "    </tr>\n",
       "  </thead>\n",
       "  <tbody>\n",
       "    <tr>\n",
       "      <th>0</th>\n",
       "      <td>2009-01-01</td>\n",
       "      <td>Нагревальщик металла</td>\n",
       "      <td>7</td>\n",
       "      <td>Нагревательные печи</td>\n",
       "      <td>22</td>\n",
       "      <td>580</td>\n",
       "      <td>26020.0</td>\n",
       "    </tr>\n",
       "    <tr>\n",
       "      <th>1</th>\n",
       "      <td>2009-01-01</td>\n",
       "      <td>Нагревальщик металла</td>\n",
       "      <td>6</td>\n",
       "      <td>Нагревательные печи</td>\n",
       "      <td>22</td>\n",
       "      <td>580</td>\n",
       "      <td>22980.0</td>\n",
       "    </tr>\n",
       "    <tr>\n",
       "      <th>2</th>\n",
       "      <td>2009-01-01</td>\n",
       "      <td>Нагревальщик металла</td>\n",
       "      <td>5</td>\n",
       "      <td>Нагревательные печи, нагрев</td>\n",
       "      <td>22</td>\n",
       "      <td>580</td>\n",
       "      <td>20350.0</td>\n",
       "    </tr>\n",
       "    <tr>\n",
       "      <th>3</th>\n",
       "      <td>2009-01-01</td>\n",
       "      <td>Нагревальщик металла</td>\n",
       "      <td>5</td>\n",
       "      <td>Нагревательные печи, кантовка</td>\n",
       "      <td>22</td>\n",
       "      <td>580</td>\n",
       "      <td>20350.0</td>\n",
       "    </tr>\n",
       "    <tr>\n",
       "      <th>4</th>\n",
       "      <td>2009-01-01</td>\n",
       "      <td>Нагревальщик металла</td>\n",
       "      <td>4</td>\n",
       "      <td>Нагревательные печи</td>\n",
       "      <td>22</td>\n",
       "      <td>580</td>\n",
       "      <td>18090.0</td>\n",
       "    </tr>\n",
       "  </tbody>\n",
       "</table>\n",
       "</div>"
      ],
      "text/plain": [
       "       Месяц             Профессия  ...  Объем производства    Доход\n",
       "0 2009-01-01  Нагревальщик металла  ...                 580  26020.0\n",
       "1 2009-01-01  Нагревальщик металла  ...                 580  22980.0\n",
       "2 2009-01-01  Нагревальщик металла  ...                 580  20350.0\n",
       "3 2009-01-01  Нагревальщик металла  ...                 580  20350.0\n",
       "4 2009-01-01  Нагревальщик металла  ...                 580  18090.0\n",
       "\n",
       "[5 rows x 7 columns]"
      ]
     },
     "execution_count": 2,
     "metadata": {
      "tags": []
     },
     "output_type": "execute_result"
    }
   ],
   "source": [
    "df = pd.read_excel('/content/drive/MyDrive/ЭКОПСИ Консалтинг/База данных.xlsx')\n",
    "df.head()"
   ]
  },
  {
   "cell_type": "markdown",
   "metadata": {
    "id": "x2pV77RhiV7n"
   },
   "source": [
    "Для простоты заменим названия столбцов на английские аналоги:"
   ]
  },
  {
   "cell_type": "code",
   "execution_count": 3,
   "metadata": {
    "id": "o3udyOMhLD0d"
   },
   "outputs": [],
   "source": [
    "df.columns = ['date', 'profession', 'rank', 'equipment', 'harmful', 'production', 'income']"
   ]
  },
  {
   "cell_type": "code",
   "execution_count": 4,
   "metadata": {
    "colab": {
     "base_uri": "https://localhost:8080/"
    },
    "id": "ymJYaL7MLEkc",
    "outputId": "2b5fe331-50b4-42ef-e5a7-2a6cbb481eb1"
   },
   "outputs": [
    {
     "name": "stdout",
     "output_type": "stream",
     "text": [
      "<class 'pandas.core.frame.DataFrame'>\n",
      "RangeIndex: 264 entries, 0 to 263\n",
      "Data columns (total 7 columns):\n",
      " #   Column      Non-Null Count  Dtype         \n",
      "---  ------      --------------  -----         \n",
      " 0   date        264 non-null    datetime64[ns]\n",
      " 1   profession  264 non-null    object        \n",
      " 2   rank        264 non-null    int64         \n",
      " 3   equipment   264 non-null    object        \n",
      " 4   harmful     264 non-null    int64         \n",
      " 5   production  264 non-null    int64         \n",
      " 6   income      264 non-null    float64       \n",
      "dtypes: datetime64[ns](1), float64(1), int64(3), object(2)\n",
      "memory usage: 14.6+ KB\n"
     ]
    }
   ],
   "source": [
    "df.info()"
   ]
  },
  {
   "cell_type": "markdown",
   "metadata": {
    "id": "Mt0CHDu6Fk8O"
   },
   "source": [
    "## Вывод:\n",
    "Данные состоят из 7 столбцов и 264 строк:\n",
    "  * Дата - период времени. \n",
    "     * Задача: определить диаппазон значений.\n",
    "  * Профессия - название профессии. \n",
    "     * Задача: определить список уникальных значений профессий и количество работников каждой профессии, также определить, меняется ли состав из месяца в месяц.\n",
    "  * Разряд - разряд работника. \n",
    "     * Задача: определить, как влияет разряд на оклад, доплаты.\n",
    "  * Оборудование - оборудование, на котором работает сотрудник.\n",
    "     * Задача: определить, влияет ли оборудование, на котором работает сотрудник, на оклад, доплаты.\n",
    "  * Вредность - уровень вредности работы в баллах.\n",
    "     * Задача: определить стоимость одной единицы вредности.\n",
    "  * Объем производства - количество произведенной продукции.\n",
    "     * Задача: определить, является ли объем сдельным или является единым для всего предприятия. Определить точку, где начинается премия.\n",
    "  * Доход - суммарный заработок работника за месяц.\n",
    "     * Задача: определить, по какой формуле расчитывается зарплата. "
   ]
  },
  {
   "cell_type": "markdown",
   "metadata": {
    "id": "pw40VuDfEcSR"
   },
   "source": [
    "# 2. Анализ данных:"
   ]
  },
  {
   "cell_type": "markdown",
   "metadata": {
    "id": "FjCkIliecOI5"
   },
   "source": [
    "Определим диапазон значений месяца:"
   ]
  },
  {
   "cell_type": "code",
   "execution_count": 5,
   "metadata": {
    "colab": {
     "base_uri": "https://localhost:8080/"
    },
    "id": "4X1iSFnXXz7y",
    "outputId": "f0266f79-66ff-4ea9-8832-78eaf243baad"
   },
   "outputs": [
    {
     "name": "stdout",
     "output_type": "stream",
     "text": [
      "2009-01-01 00:00:00\n",
      "2009-12-01 00:00:00\n"
     ]
    }
   ],
   "source": [
    "print(df.date.min())\n",
    "print(df.date.max())"
   ]
  },
  {
   "cell_type": "markdown",
   "metadata": {
    "id": "_s49X6Dzc7Io"
   },
   "source": [
    "В данной таблице временной диапазон один год: с января по декабрь. Для простоты оставим только значения месяцев:"
   ]
  },
  {
   "cell_type": "code",
   "execution_count": 6,
   "metadata": {
    "id": "NHeasU25ut8A"
   },
   "outputs": [],
   "source": [
    "df['date'] = df['date'].dt.month"
   ]
  },
  {
   "cell_type": "markdown",
   "metadata": {
    "id": "Cafvs39sd62L"
   },
   "source": [
    "Далее сгруппируем объем производства по месяцам:"
   ]
  },
  {
   "cell_type": "code",
   "execution_count": 7,
   "metadata": {
    "colab": {
     "base_uri": "https://localhost:8080/",
     "height": 452
    },
    "id": "AD1m8RTHd7lY",
    "outputId": "65ce44b1-fd21-4833-d481-c41937f13b79"
   },
   "outputs": [
    {
     "data": {
      "text/html": [
       "<div>\n",
       "<style scoped>\n",
       "    .dataframe tbody tr th:only-of-type {\n",
       "        vertical-align: middle;\n",
       "    }\n",
       "\n",
       "    .dataframe tbody tr th {\n",
       "        vertical-align: top;\n",
       "    }\n",
       "\n",
       "    .dataframe thead th {\n",
       "        text-align: right;\n",
       "    }\n",
       "</style>\n",
       "<table border=\"1\" class=\"dataframe\">\n",
       "  <thead>\n",
       "    <tr style=\"text-align: right;\">\n",
       "      <th></th>\n",
       "      <th>production</th>\n",
       "    </tr>\n",
       "    <tr>\n",
       "      <th>date</th>\n",
       "      <th></th>\n",
       "    </tr>\n",
       "  </thead>\n",
       "  <tbody>\n",
       "    <tr>\n",
       "      <th>1</th>\n",
       "      <td>580</td>\n",
       "    </tr>\n",
       "    <tr>\n",
       "      <th>2</th>\n",
       "      <td>790</td>\n",
       "    </tr>\n",
       "    <tr>\n",
       "      <th>3</th>\n",
       "      <td>820</td>\n",
       "    </tr>\n",
       "    <tr>\n",
       "      <th>4</th>\n",
       "      <td>1200</td>\n",
       "    </tr>\n",
       "    <tr>\n",
       "      <th>5</th>\n",
       "      <td>1250</td>\n",
       "    </tr>\n",
       "    <tr>\n",
       "      <th>6</th>\n",
       "      <td>950</td>\n",
       "    </tr>\n",
       "    <tr>\n",
       "      <th>7</th>\n",
       "      <td>1400</td>\n",
       "    </tr>\n",
       "    <tr>\n",
       "      <th>8</th>\n",
       "      <td>1180</td>\n",
       "    </tr>\n",
       "    <tr>\n",
       "      <th>9</th>\n",
       "      <td>1080</td>\n",
       "    </tr>\n",
       "    <tr>\n",
       "      <th>10</th>\n",
       "      <td>780</td>\n",
       "    </tr>\n",
       "    <tr>\n",
       "      <th>11</th>\n",
       "      <td>1020</td>\n",
       "    </tr>\n",
       "    <tr>\n",
       "      <th>12</th>\n",
       "      <td>810</td>\n",
       "    </tr>\n",
       "  </tbody>\n",
       "</table>\n",
       "</div>"
      ],
      "text/plain": [
       "      production\n",
       "date            \n",
       "1            580\n",
       "2            790\n",
       "3            820\n",
       "4           1200\n",
       "5           1250\n",
       "6            950\n",
       "7           1400\n",
       "8           1180\n",
       "9           1080\n",
       "10           780\n",
       "11          1020\n",
       "12           810"
      ]
     },
     "execution_count": 7,
     "metadata": {
      "tags": []
     },
     "output_type": "execute_result"
    }
   ],
   "source": [
    "pd.DataFrame(df.groupby('date')['production'].mean())"
   ]
  },
  {
   "cell_type": "markdown",
   "metadata": {
    "id": "BZzLT5y1eHCG"
   },
   "source": [
    "Объем производства один на все предприятие, а следовательно премия зависит от определенного объема. Если мы возьмем объем производства помесячно и среднюю зарплату сотрудников, мы увидим, в какой точке эта средняя зарплата начнет расти, там заканчивается оклад и начинается премия. Построим таблицу объема продукции и средней зарплаты по предприятию, отсортируем по возрастанию объем произведенной продукции. Дифференцируем эти два столбца и посчитаем стоимость одной дополнительной единицы продукции:\n"
   ]
  },
  {
   "cell_type": "code",
   "execution_count": 8,
   "metadata": {
    "colab": {
     "base_uri": "https://localhost:8080/",
     "height": 452
    },
    "id": "PLS3m_yVGypL",
    "outputId": "e7b55141-c82e-42eb-f6ce-385a0ca51342"
   },
   "outputs": [
    {
     "data": {
      "text/html": [
       "<div>\n",
       "<style scoped>\n",
       "    .dataframe tbody tr th:only-of-type {\n",
       "        vertical-align: middle;\n",
       "    }\n",
       "\n",
       "    .dataframe tbody tr th {\n",
       "        vertical-align: top;\n",
       "    }\n",
       "\n",
       "    .dataframe thead th {\n",
       "        text-align: right;\n",
       "    }\n",
       "</style>\n",
       "<table border=\"1\" class=\"dataframe\">\n",
       "  <thead>\n",
       "    <tr style=\"text-align: right;\">\n",
       "      <th></th>\n",
       "      <th>production</th>\n",
       "      <th>income</th>\n",
       "      <th>diff_production</th>\n",
       "      <th>diff_income</th>\n",
       "      <th>result</th>\n",
       "    </tr>\n",
       "    <tr>\n",
       "      <th>date</th>\n",
       "      <th></th>\n",
       "      <th></th>\n",
       "      <th></th>\n",
       "      <th></th>\n",
       "      <th></th>\n",
       "    </tr>\n",
       "  </thead>\n",
       "  <tbody>\n",
       "    <tr>\n",
       "      <th>1</th>\n",
       "      <td>580</td>\n",
       "      <td>19309.090909</td>\n",
       "      <td>NaN</td>\n",
       "      <td>NaN</td>\n",
       "      <td>NaN</td>\n",
       "    </tr>\n",
       "    <tr>\n",
       "      <th>10</th>\n",
       "      <td>780</td>\n",
       "      <td>19309.090909</td>\n",
       "      <td>200.0</td>\n",
       "      <td>0.000000</td>\n",
       "      <td>0.000000</td>\n",
       "    </tr>\n",
       "    <tr>\n",
       "      <th>2</th>\n",
       "      <td>790</td>\n",
       "      <td>19309.090909</td>\n",
       "      <td>10.0</td>\n",
       "      <td>0.000000</td>\n",
       "      <td>0.000000</td>\n",
       "    </tr>\n",
       "    <tr>\n",
       "      <th>12</th>\n",
       "      <td>810</td>\n",
       "      <td>19309.090909</td>\n",
       "      <td>20.0</td>\n",
       "      <td>0.000000</td>\n",
       "      <td>0.000000</td>\n",
       "    </tr>\n",
       "    <tr>\n",
       "      <th>3</th>\n",
       "      <td>820</td>\n",
       "      <td>19309.090909</td>\n",
       "      <td>10.0</td>\n",
       "      <td>0.000000</td>\n",
       "      <td>0.000000</td>\n",
       "    </tr>\n",
       "    <tr>\n",
       "      <th>6</th>\n",
       "      <td>950</td>\n",
       "      <td>20278.877005</td>\n",
       "      <td>130.0</td>\n",
       "      <td>969.786096</td>\n",
       "      <td>7.459893</td>\n",
       "    </tr>\n",
       "    <tr>\n",
       "      <th>11</th>\n",
       "      <td>1020</td>\n",
       "      <td>20957.727273</td>\n",
       "      <td>70.0</td>\n",
       "      <td>678.850267</td>\n",
       "      <td>9.697861</td>\n",
       "    </tr>\n",
       "    <tr>\n",
       "      <th>9</th>\n",
       "      <td>1080</td>\n",
       "      <td>21539.598930</td>\n",
       "      <td>60.0</td>\n",
       "      <td>581.871658</td>\n",
       "      <td>9.697861</td>\n",
       "    </tr>\n",
       "    <tr>\n",
       "      <th>8</th>\n",
       "      <td>1180</td>\n",
       "      <td>22509.385027</td>\n",
       "      <td>100.0</td>\n",
       "      <td>969.786096</td>\n",
       "      <td>9.697861</td>\n",
       "    </tr>\n",
       "    <tr>\n",
       "      <th>4</th>\n",
       "      <td>1200</td>\n",
       "      <td>22703.342246</td>\n",
       "      <td>20.0</td>\n",
       "      <td>193.957219</td>\n",
       "      <td>9.697861</td>\n",
       "    </tr>\n",
       "    <tr>\n",
       "      <th>5</th>\n",
       "      <td>1250</td>\n",
       "      <td>23188.235294</td>\n",
       "      <td>50.0</td>\n",
       "      <td>484.893048</td>\n",
       "      <td>9.697861</td>\n",
       "    </tr>\n",
       "    <tr>\n",
       "      <th>7</th>\n",
       "      <td>1400</td>\n",
       "      <td>24642.914439</td>\n",
       "      <td>150.0</td>\n",
       "      <td>1454.679144</td>\n",
       "      <td>9.697861</td>\n",
       "    </tr>\n",
       "  </tbody>\n",
       "</table>\n",
       "</div>"
      ],
      "text/plain": [
       "      production        income  diff_production  diff_income    result\n",
       "date                                                                  \n",
       "1            580  19309.090909              NaN          NaN       NaN\n",
       "10           780  19309.090909            200.0     0.000000  0.000000\n",
       "2            790  19309.090909             10.0     0.000000  0.000000\n",
       "12           810  19309.090909             20.0     0.000000  0.000000\n",
       "3            820  19309.090909             10.0     0.000000  0.000000\n",
       "6            950  20278.877005            130.0   969.786096  7.459893\n",
       "11          1020  20957.727273             70.0   678.850267  9.697861\n",
       "9           1080  21539.598930             60.0   581.871658  9.697861\n",
       "8           1180  22509.385027            100.0   969.786096  9.697861\n",
       "4           1200  22703.342246             20.0   193.957219  9.697861\n",
       "5           1250  23188.235294             50.0   484.893048  9.697861\n",
       "7           1400  24642.914439            150.0  1454.679144  9.697861"
      ]
     },
     "execution_count": 8,
     "metadata": {
      "tags": []
     },
     "output_type": "execute_result"
    }
   ],
   "source": [
    "bonus = pd.DataFrame({\n",
    "    'production': df['production'].unique(), \n",
    "    'income': df.pivot_table(index='date', values='income', aggfunc='mean')['income']\n",
    "    }).sort_values('production')\n",
    "\n",
    "bonus['diff_production'], bonus['diff_income'] = [bonus[i].diff() for i in ['production', 'income']]\n",
    "bonus['result'] = bonus['diff_income'] / bonus['diff_production']  \n",
    "bonus"
   ]
  },
  {
   "cell_type": "markdown",
   "metadata": {
    "id": "a4QrZcukhtHm"
   },
   "source": [
    "Средняя стоимость одной дополнительной единицы продукции равен 9.697861р, рост премии линейный. В точке с объемом 950 ед., стоимость составляет 7.459893р, так происходит потому, что цена начинает свой рост не с 820 ед., а с точки, которая нам пока неизвестна, но находящаяся в диапазоне от 820 ед. до 950 ед. То есть, рост происходит не на всем диапазоне, отсюда и значение низкое. Найдем точку начала премии.  Разделим дельту стоимости в диапазоне объема от 820 ед до 950 ед (969.786096р) на стоимость одной дополнительной единицы продукции равной 9.697861р: "
   ]
  },
  {
   "cell_type": "code",
   "execution_count": 9,
   "metadata": {
    "colab": {
     "base_uri": "https://localhost:8080/"
    },
    "id": "Y-79Vk_oc3VV",
    "outputId": "2d295bb0-aeef-42bc-fb5e-aceda0e89372"
   },
   "outputs": [
    {
     "data": {
      "text/plain": [
       "99.99999958753791"
      ]
     },
     "execution_count": 9,
     "metadata": {
      "tags": []
     },
     "output_type": "execute_result"
    }
   ],
   "source": [
    "969.786096 / 9.697861"
   ]
  },
  {
   "cell_type": "markdown",
   "metadata": {
    "id": "K64TWfg4mZ3o"
   },
   "source": [
    "100 ед продукции, вычтем их из объема:"
   ]
  },
  {
   "cell_type": "code",
   "execution_count": 10,
   "metadata": {
    "colab": {
     "base_uri": "https://localhost:8080/"
    },
    "id": "ufpB2EqhdU3C",
    "outputId": "a2147604-7cf6-42aa-9355-ca49d4404e06"
   },
   "outputs": [
    {
     "data": {
      "text/plain": [
       "850"
      ]
     },
     "execution_count": 10,
     "metadata": {
      "tags": []
     },
     "output_type": "execute_result"
    }
   ],
   "source": [
    "950 - 100"
   ]
  },
  {
   "cell_type": "markdown",
   "metadata": {
    "id": "rt2U52DLlVXC"
   },
   "source": [
    "Получается, что цена начинает свой рост с 850 ед. Это и есть точка, с которой начинается премия. Построим график производственного объема предприятия и константы объема, с которого начинается премия:"
   ]
  },
  {
   "cell_type": "code",
   "execution_count": 11,
   "metadata": {
    "colab": {
     "base_uri": "https://localhost:8080/",
     "height": 632
    },
    "id": "5zUSm1IOUsRm",
    "outputId": "ebf1fce6-7ac0-4c2e-b4cc-29dbf3551b78"
   },
   "outputs": [
    {
     "data": {
      "image/png": "[encoded data removed]",
      "text/plain": [
       "<Figure size 1080x720 with 1 Axes>"
      ]
     },
     "metadata": {
      "needs_background": "light",
      "tags": []
     },
     "output_type": "display_data"
    }
   ],
   "source": [
    "pd.DataFrame({\n",
    "    'product': df.groupby('date')['production'].mean(),\n",
    "    'income': np.linspace(850, 850, 12, dtype='int64')\n",
    "}).plot(grid=True, figsize=(15, 10), linewidth=3)\n",
    "plt.title(\"Константа оклада от объема производства\", size=20)\n",
    "plt.xlabel(\"Месяц\", size=15)\n",
    "plt.ylabel(\"Объем продукции\", size=15)\n",
    "plt.show()"
   ]
  },
  {
   "cell_type": "markdown",
   "metadata": {
    "id": "pUYhFIxgmrBX"
   },
   "source": [
    "Далее определим, меняется ли количество работников по месяцам:"
   ]
  },
  {
   "cell_type": "code",
   "execution_count": 12,
   "metadata": {
    "colab": {
     "base_uri": "https://localhost:8080/"
    },
    "id": "sQRrz3pBp_ka",
    "outputId": "61366d26-6dc4-488b-e54a-f42cdc2187a1"
   },
   "outputs": [
    {
     "name": "stdout",
     "output_type": "stream",
     "text": [
      "Месяц: 1 Количество работников: 22\n",
      "Месяц: 2 Количество работников: 22\n",
      "Месяц: 3 Количество работников: 22\n",
      "Месяц: 4 Количество работников: 22\n",
      "Месяц: 5 Количество работников: 22\n",
      "Месяц: 6 Количество работников: 22\n",
      "Месяц: 7 Количество работников: 22\n",
      "Месяц: 8 Количество работников: 22\n",
      "Месяц: 9 Количество работников: 22\n",
      "Месяц: 10 Количество работников: 22\n",
      "Месяц: 11 Количество работников: 22\n",
      "Месяц: 12 Количество работников: 22\n"
     ]
    },
    {
     "data": {
      "text/plain": [
       "[None, None, None, None, None, None, None, None, None, None, None, None]"
      ]
     },
     "execution_count": 12,
     "metadata": {
      "tags": []
     },
     "output_type": "execute_result"
    }
   ],
   "source": [
    "[print('Месяц:', i, 'Количество работников:', df[df['date'] == i]['profession'].count()) for i in df['date'].unique()]"
   ]
  },
  {
   "cell_type": "markdown",
   "metadata": {
    "id": "-GKLJC9_ncSx"
   },
   "source": [
    "Количество сотрудников остается неизменным из месяца в месяц. Посмотрим структуру штата в месяце:"
   ]
  },
  {
   "cell_type": "code",
   "execution_count": 13,
   "metadata": {
    "colab": {
     "base_uri": "https://localhost:8080/",
     "height": 359
    },
    "id": "CY1C0vzsxC3e",
    "outputId": "86636381-4f03-40a1-8e59-84ad766c84f8"
   },
   "outputs": [
    {
     "data": {
      "text/html": [
       "<div>\n",
       "<style scoped>\n",
       "    .dataframe tbody tr th:only-of-type {\n",
       "        vertical-align: middle;\n",
       "    }\n",
       "\n",
       "    .dataframe tbody tr th {\n",
       "        vertical-align: top;\n",
       "    }\n",
       "\n",
       "    .dataframe thead th {\n",
       "        text-align: right;\n",
       "    }\n",
       "</style>\n",
       "<table border=\"1\" class=\"dataframe\">\n",
       "  <thead>\n",
       "    <tr style=\"text-align: right;\">\n",
       "      <th></th>\n",
       "      <th>date</th>\n",
       "    </tr>\n",
       "    <tr>\n",
       "      <th>profession</th>\n",
       "      <th></th>\n",
       "    </tr>\n",
       "  </thead>\n",
       "  <tbody>\n",
       "    <tr>\n",
       "      <th>Вальцовщик</th>\n",
       "      <td>5.0</td>\n",
       "    </tr>\n",
       "    <tr>\n",
       "      <th>Нагревальщик металла</th>\n",
       "      <td>5.0</td>\n",
       "    </tr>\n",
       "    <tr>\n",
       "      <th>Оператор поста управления</th>\n",
       "      <td>3.0</td>\n",
       "    </tr>\n",
       "    <tr>\n",
       "      <th>Подручный вальцовщика</th>\n",
       "      <td>3.0</td>\n",
       "    </tr>\n",
       "    <tr>\n",
       "      <th>Уборщик</th>\n",
       "      <td>2.0</td>\n",
       "    </tr>\n",
       "    <tr>\n",
       "      <th>Контролер качества готовой продукции</th>\n",
       "      <td>1.0</td>\n",
       "    </tr>\n",
       "    <tr>\n",
       "      <th>Огнеупорщик</th>\n",
       "      <td>1.0</td>\n",
       "    </tr>\n",
       "    <tr>\n",
       "      <th>Посадчик металла</th>\n",
       "      <td>1.0</td>\n",
       "    </tr>\n",
       "    <tr>\n",
       "      <th>Резчик горячего металла</th>\n",
       "      <td>1.0</td>\n",
       "    </tr>\n",
       "  </tbody>\n",
       "</table>\n",
       "</div>"
      ],
      "text/plain": [
       "                                      date\n",
       "profession                                \n",
       "Вальцовщик                             5.0\n",
       "Нагревальщик металла                   5.0\n",
       "Оператор поста управления              3.0\n",
       "Подручный вальцовщика                  3.0\n",
       "Уборщик                                2.0\n",
       "Контролер качества готовой продукции   1.0\n",
       "Огнеупорщик                            1.0\n",
       "Посадчик металла                       1.0\n",
       "Резчик горячего металла                1.0"
      ]
     },
     "execution_count": 13,
     "metadata": {
      "tags": []
     },
     "output_type": "execute_result"
    }
   ],
   "source": [
    "pd.DataFrame(df.groupby('profession')['date'].count() / 12).sort_values('date', ascending=False)"
   ]
  },
  {
   "cell_type": "markdown",
   "metadata": {
    "id": "U8bA55dYnz2_"
   },
   "source": [
    "Всего 22 сотрудника, которые не меняются из месяца в месяц. Посмотрим более детально на структуру штата:"
   ]
  },
  {
   "cell_type": "code",
   "execution_count": 14,
   "metadata": {
    "colab": {
     "base_uri": "https://localhost:8080/",
     "height": 731
    },
    "id": "EsH0m8B8IjcQ",
    "outputId": "e7e09ed5-9640-48e6-ce28-efb45bbe3490"
   },
   "outputs": [
    {
     "data": {
      "text/html": [
       "<div>\n",
       "<style scoped>\n",
       "    .dataframe tbody tr th:only-of-type {\n",
       "        vertical-align: middle;\n",
       "    }\n",
       "\n",
       "    .dataframe tbody tr th {\n",
       "        vertical-align: top;\n",
       "    }\n",
       "\n",
       "    .dataframe thead th {\n",
       "        text-align: right;\n",
       "    }\n",
       "</style>\n",
       "<table border=\"1\" class=\"dataframe\">\n",
       "  <thead>\n",
       "    <tr style=\"text-align: right;\">\n",
       "      <th></th>\n",
       "      <th>profession</th>\n",
       "      <th>rank</th>\n",
       "      <th>equipment</th>\n",
       "      <th>harmful</th>\n",
       "      <th>income</th>\n",
       "    </tr>\n",
       "  </thead>\n",
       "  <tbody>\n",
       "    <tr>\n",
       "      <th>0</th>\n",
       "      <td>Вальцовщик</td>\n",
       "      <td>7</td>\n",
       "      <td>Пилигримовые станы</td>\n",
       "      <td>18</td>\n",
       "      <td>25300.0</td>\n",
       "    </tr>\n",
       "    <tr>\n",
       "      <th>1</th>\n",
       "      <td>Вальцовщик</td>\n",
       "      <td>5</td>\n",
       "      <td>Калибровочный стан</td>\n",
       "      <td>18</td>\n",
       "      <td>19630.0</td>\n",
       "    </tr>\n",
       "    <tr>\n",
       "      <th>2</th>\n",
       "      <td>Вальцовщик</td>\n",
       "      <td>6</td>\n",
       "      <td>Пилигримовые станы</td>\n",
       "      <td>18</td>\n",
       "      <td>22260.0</td>\n",
       "    </tr>\n",
       "    <tr>\n",
       "      <th>3</th>\n",
       "      <td>Вальцовщик</td>\n",
       "      <td>6</td>\n",
       "      <td>Прошивной стан</td>\n",
       "      <td>18</td>\n",
       "      <td>22260.0</td>\n",
       "    </tr>\n",
       "    <tr>\n",
       "      <th>4</th>\n",
       "      <td>Вальцовщик</td>\n",
       "      <td>7</td>\n",
       "      <td>Прошивной стан</td>\n",
       "      <td>18</td>\n",
       "      <td>25300.0</td>\n",
       "    </tr>\n",
       "    <tr>\n",
       "      <th>5</th>\n",
       "      <td>Контролер качества готовой продукции</td>\n",
       "      <td>7</td>\n",
       "      <td>Контрольно-измерительная аппаратура</td>\n",
       "      <td>0</td>\n",
       "      <td>22060.0</td>\n",
       "    </tr>\n",
       "    <tr>\n",
       "      <th>6</th>\n",
       "      <td>Нагревальщик металла</td>\n",
       "      <td>4</td>\n",
       "      <td>Нагревательные печи</td>\n",
       "      <td>22</td>\n",
       "      <td>18090.0</td>\n",
       "    </tr>\n",
       "    <tr>\n",
       "      <th>7</th>\n",
       "      <td>Нагревальщик металла</td>\n",
       "      <td>5</td>\n",
       "      <td>Нагревательные печи, кантовка</td>\n",
       "      <td>22</td>\n",
       "      <td>20350.0</td>\n",
       "    </tr>\n",
       "    <tr>\n",
       "      <th>8</th>\n",
       "      <td>Нагревальщик металла</td>\n",
       "      <td>5</td>\n",
       "      <td>Нагревательные печи, нагрев</td>\n",
       "      <td>22</td>\n",
       "      <td>20350.0</td>\n",
       "    </tr>\n",
       "    <tr>\n",
       "      <th>9</th>\n",
       "      <td>Нагревальщик металла</td>\n",
       "      <td>6</td>\n",
       "      <td>Нагревательные печи</td>\n",
       "      <td>22</td>\n",
       "      <td>22980.0</td>\n",
       "    </tr>\n",
       "    <tr>\n",
       "      <th>10</th>\n",
       "      <td>Нагревальщик металла</td>\n",
       "      <td>7</td>\n",
       "      <td>Нагревательные печи</td>\n",
       "      <td>22</td>\n",
       "      <td>26020.0</td>\n",
       "    </tr>\n",
       "    <tr>\n",
       "      <th>11</th>\n",
       "      <td>Огнеупорщик</td>\n",
       "      <td>4</td>\n",
       "      <td>Нагревательные печи</td>\n",
       "      <td>11</td>\n",
       "      <td>16110.0</td>\n",
       "    </tr>\n",
       "    <tr>\n",
       "      <th>12</th>\n",
       "      <td>Оператор поста управления</td>\n",
       "      <td>5</td>\n",
       "      <td>Калибровочный стан</td>\n",
       "      <td>8</td>\n",
       "      <td>17830.0</td>\n",
       "    </tr>\n",
       "    <tr>\n",
       "      <th>13</th>\n",
       "      <td>Оператор поста управления</td>\n",
       "      <td>5</td>\n",
       "      <td>Калибровочный стан, ГРП</td>\n",
       "      <td>8</td>\n",
       "      <td>17830.0</td>\n",
       "    </tr>\n",
       "    <tr>\n",
       "      <th>14</th>\n",
       "      <td>Оператор поста управления</td>\n",
       "      <td>4</td>\n",
       "      <td>Калибровочный стан</td>\n",
       "      <td>8</td>\n",
       "      <td>15570.0</td>\n",
       "    </tr>\n",
       "    <tr>\n",
       "      <th>15</th>\n",
       "      <td>Подручный вальцовщика</td>\n",
       "      <td>4</td>\n",
       "      <td>Прошивной стан</td>\n",
       "      <td>18</td>\n",
       "      <td>17370.0</td>\n",
       "    </tr>\n",
       "    <tr>\n",
       "      <th>16</th>\n",
       "      <td>Подручный вальцовщика</td>\n",
       "      <td>4</td>\n",
       "      <td>Пилигримовые станы</td>\n",
       "      <td>18</td>\n",
       "      <td>17370.0</td>\n",
       "    </tr>\n",
       "    <tr>\n",
       "      <th>17</th>\n",
       "      <td>Подручный вальцовщика</td>\n",
       "      <td>3</td>\n",
       "      <td>Пилигримовые станы</td>\n",
       "      <td>18</td>\n",
       "      <td>15420.0</td>\n",
       "    </tr>\n",
       "    <tr>\n",
       "      <th>18</th>\n",
       "      <td>Посадчик металла</td>\n",
       "      <td>4</td>\n",
       "      <td>Нагревательные печи</td>\n",
       "      <td>22</td>\n",
       "      <td>18090.0</td>\n",
       "    </tr>\n",
       "    <tr>\n",
       "      <th>19</th>\n",
       "      <td>Резчик горячего металла</td>\n",
       "      <td>4</td>\n",
       "      <td>Пилигримовые станы</td>\n",
       "      <td>16</td>\n",
       "      <td>17010.0</td>\n",
       "    </tr>\n",
       "    <tr>\n",
       "      <th>20</th>\n",
       "      <td>Уборщик</td>\n",
       "      <td>3</td>\n",
       "      <td>Вспомогательные помещения</td>\n",
       "      <td>0</td>\n",
       "      <td>12180.0</td>\n",
       "    </tr>\n",
       "    <tr>\n",
       "      <th>21</th>\n",
       "      <td>Уборщик</td>\n",
       "      <td>3</td>\n",
       "      <td>Пилигримовые станы</td>\n",
       "      <td>18</td>\n",
       "      <td>15420.0</td>\n",
       "    </tr>\n",
       "  </tbody>\n",
       "</table>\n",
       "</div>"
      ],
      "text/plain": [
       "                              profession  rank  ... harmful   income\n",
       "0                             Вальцовщик     7  ...      18  25300.0\n",
       "1                             Вальцовщик     5  ...      18  19630.0\n",
       "2                             Вальцовщик     6  ...      18  22260.0\n",
       "3                             Вальцовщик     6  ...      18  22260.0\n",
       "4                             Вальцовщик     7  ...      18  25300.0\n",
       "5   Контролер качества готовой продукции     7  ...       0  22060.0\n",
       "6                   Нагревальщик металла     4  ...      22  18090.0\n",
       "7                   Нагревальщик металла     5  ...      22  20350.0\n",
       "8                   Нагревальщик металла     5  ...      22  20350.0\n",
       "9                   Нагревальщик металла     6  ...      22  22980.0\n",
       "10                  Нагревальщик металла     7  ...      22  26020.0\n",
       "11                           Огнеупорщик     4  ...      11  16110.0\n",
       "12             Оператор поста управления     5  ...       8  17830.0\n",
       "13             Оператор поста управления     5  ...       8  17830.0\n",
       "14             Оператор поста управления     4  ...       8  15570.0\n",
       "15                 Подручный вальцовщика     4  ...      18  17370.0\n",
       "16                 Подручный вальцовщика     4  ...      18  17370.0\n",
       "17                 Подручный вальцовщика     3  ...      18  15420.0\n",
       "18                      Посадчик металла     4  ...      22  18090.0\n",
       "19               Резчик горячего металла     4  ...      16  17010.0\n",
       "20                               Уборщик     3  ...       0  12180.0\n",
       "21                               Уборщик     3  ...      18  15420.0\n",
       "\n",
       "[22 rows x 5 columns]"
      ]
     },
     "execution_count": 14,
     "metadata": {
      "tags": []
     },
     "output_type": "execute_result"
    }
   ],
   "source": [
    "df.query('date == 1')[['profession', 'rank', 'equipment', 'harmful', 'income']].sort_values('profession').reset_index(drop=True)"
   ]
  },
  {
   "cell_type": "markdown",
   "metadata": {
    "id": "GNM5EeOZoNID"
   },
   "source": [
    "Как видно из вывода, оборудование, на котором работает сотрудник, не влияет на уровень зарплаты. Влияние имеют: профессия, разряд, вредность и объем производства. Определим стоимость одной единицы вредности. Есть две должности уборщика: одна с вредностью, другая без нее. Для простоты, уборщика вспомогательных помещений назовем \"Уборщик вспомогательных помещений\": "
   ]
  },
  {
   "cell_type": "code",
   "execution_count": 15,
   "metadata": {
    "id": "L0iyTS36Lx9e"
   },
   "outputs": [],
   "source": [
    "df.loc[(df['profession'] == 'Уборщик') & (df['harmful'] == 0), 'profession'] = 'Уборщик вспомогательных помещений'"
   ]
  },
  {
   "cell_type": "markdown",
   "metadata": {
    "id": "eeuyrq74pLxE"
   },
   "source": [
    "Далее найдем разницу между зарплатой уборщика и уборщика вспомогательных помещений и разделим на коэффициент вредности данной профессии: "
   ]
  },
  {
   "cell_type": "code",
   "execution_count": 16,
   "metadata": {
    "colab": {
     "base_uri": "https://localhost:8080/"
    },
    "id": "m7t8xEP8dAmh",
    "outputId": "9ac1e972-9e3f-4fb3-efab-84743355ef46"
   },
   "outputs": [
    {
     "data": {
      "text/plain": [
       "array([180.])"
      ]
     },
     "execution_count": 16,
     "metadata": {
      "tags": []
     },
     "output_type": "execute_result"
    }
   ],
   "source": [
    "(df.query(\n",
    "    'date == 1 and profession == \"Уборщик\"'\n",
    ")['income'].values - df.query(\n",
    "    'date == 1 and profession == \"Уборщик вспомогательных помещений\"'\n",
    ")['income'].values) / 18"
   ]
  },
  {
   "cell_type": "markdown",
   "metadata": {
    "id": "Wq_QSeJvp9aV"
   },
   "source": [
    "Одна единица вредности равна 180р. Далее, умножим стоимость вредности на коэффициент и вычтем из зарплаты стоимость вредности. Также создадим столбец со стоимостью месячной вредности: "
   ]
  },
  {
   "cell_type": "code",
   "execution_count": 17,
   "metadata": {
    "id": "t8GTNFSnmSI5"
   },
   "outputs": [],
   "source": [
    "df['income'] = df['income'] - df['harmful'] * 180 \n",
    "df['harmful_month'] = df['harmful'] * 180"
   ]
  },
  {
   "cell_type": "markdown",
   "metadata": {
    "id": "0fli2_r2rE79"
   },
   "source": [
    "Далее, для оклада (без вредности) посчитаем стоимость одной дополнительной единицы продукции для каждой профессии с учетом разряда и сохраним в отдельном столбце: "
   ]
  },
  {
   "cell_type": "code",
   "execution_count": 18,
   "metadata": {
    "id": "myJWjLa51kva"
   },
   "outputs": [],
   "source": [
    "def bonus(profession, rank):\n",
    "  info = df.query('profession == @profession and rank == @rank').sort_values('production')\n",
    "  info['diff_production'], info['diff_income'] = [info[i].diff() for i in ['production', 'income']]\n",
    "  info['result'] = info['diff_income'] / info['diff_production']\n",
    "  return info[info['date'] == 7]['result'].values\n",
    "\n",
    "df['bonus'] = np.nan\n",
    "\n",
    "prof_list = df[df['date'] == 1][['profession', 'rank']]\n",
    "\n",
    "for profession, rank in prof_list.values:\n",
    "  df.loc[(df['profession'] == profession) & (df['rank'] == rank), 'bonus'] = df['bonus'].fillna(bonus(profession, rank).tolist()[0])"
   ]
  },
  {
   "cell_type": "markdown",
   "metadata": {
    "id": "K_jjFsEnoATi"
   },
   "source": [
    "# 3. Общий вывод:"
   ]
  },
  {
   "cell_type": "markdown",
   "metadata": {
    "id": "oeur_F5sr9PC"
   },
   "source": [
    "Выведем в таблице информацию об уникальных должностях с колонками 'Профессия', 'Разряд', 'Вредность(балл.)', 'Вредность(сумма/месяц)', 'Оклад', 'Премия(доп. единица)'. Переименуем столбцы:"
   ]
  },
  {
   "cell_type": "code",
   "execution_count": 19,
   "metadata": {
    "colab": {
     "base_uri": "https://localhost:8080/",
     "height": 576
    },
    "id": "lNfKp7NoEx_p",
    "outputId": "62ee37b5-cc5a-4754-d846-69647ef2907f"
   },
   "outputs": [
    {
     "data": {
      "text/html": [
       "<div>\n",
       "<style scoped>\n",
       "    .dataframe tbody tr th:only-of-type {\n",
       "        vertical-align: middle;\n",
       "    }\n",
       "\n",
       "    .dataframe tbody tr th {\n",
       "        vertical-align: top;\n",
       "    }\n",
       "\n",
       "    .dataframe thead th {\n",
       "        text-align: right;\n",
       "    }\n",
       "</style>\n",
       "<table border=\"1\" class=\"dataframe\">\n",
       "  <thead>\n",
       "    <tr style=\"text-align: right;\">\n",
       "      <th></th>\n",
       "      <th>Профессия</th>\n",
       "      <th>Разряд</th>\n",
       "      <th>Вредность(балл.)</th>\n",
       "      <th>Вредность(сумма/месяц)</th>\n",
       "      <th>Оклад</th>\n",
       "      <th>Премия(доп.еденица)</th>\n",
       "    </tr>\n",
       "  </thead>\n",
       "  <tbody>\n",
       "    <tr>\n",
       "      <th>0</th>\n",
       "      <td>Вальцовщик</td>\n",
       "      <td>5</td>\n",
       "      <td>18</td>\n",
       "      <td>3240</td>\n",
       "      <td>16390.0</td>\n",
       "      <td>9.641176</td>\n",
       "    </tr>\n",
       "    <tr>\n",
       "      <th>1</th>\n",
       "      <td>Вальцовщик</td>\n",
       "      <td>6</td>\n",
       "      <td>18</td>\n",
       "      <td>3240</td>\n",
       "      <td>19020.0</td>\n",
       "      <td>11.188235</td>\n",
       "    </tr>\n",
       "    <tr>\n",
       "      <th>2</th>\n",
       "      <td>Вальцовщик</td>\n",
       "      <td>7</td>\n",
       "      <td>18</td>\n",
       "      <td>3240</td>\n",
       "      <td>22060.0</td>\n",
       "      <td>12.976471</td>\n",
       "    </tr>\n",
       "    <tr>\n",
       "      <th>3</th>\n",
       "      <td>Контролер качества готовой продукции</td>\n",
       "      <td>7</td>\n",
       "      <td>0</td>\n",
       "      <td>0</td>\n",
       "      <td>22060.0</td>\n",
       "      <td>12.976471</td>\n",
       "    </tr>\n",
       "    <tr>\n",
       "      <th>4</th>\n",
       "      <td>Нагревальщик металла</td>\n",
       "      <td>7</td>\n",
       "      <td>22</td>\n",
       "      <td>3960</td>\n",
       "      <td>22060.0</td>\n",
       "      <td>12.976471</td>\n",
       "    </tr>\n",
       "    <tr>\n",
       "      <th>5</th>\n",
       "      <td>Нагревальщик металла</td>\n",
       "      <td>4</td>\n",
       "      <td>22</td>\n",
       "      <td>3960</td>\n",
       "      <td>14130.0</td>\n",
       "      <td>8.311765</td>\n",
       "    </tr>\n",
       "    <tr>\n",
       "      <th>6</th>\n",
       "      <td>Нагревальщик металла</td>\n",
       "      <td>5</td>\n",
       "      <td>22</td>\n",
       "      <td>3960</td>\n",
       "      <td>16390.0</td>\n",
       "      <td>9.641176</td>\n",
       "    </tr>\n",
       "    <tr>\n",
       "      <th>7</th>\n",
       "      <td>Нагревальщик металла</td>\n",
       "      <td>6</td>\n",
       "      <td>22</td>\n",
       "      <td>3960</td>\n",
       "      <td>19020.0</td>\n",
       "      <td>11.188235</td>\n",
       "    </tr>\n",
       "    <tr>\n",
       "      <th>8</th>\n",
       "      <td>Огнеупорщик</td>\n",
       "      <td>4</td>\n",
       "      <td>11</td>\n",
       "      <td>1980</td>\n",
       "      <td>14130.0</td>\n",
       "      <td>8.311765</td>\n",
       "    </tr>\n",
       "    <tr>\n",
       "      <th>9</th>\n",
       "      <td>Оператор поста управления</td>\n",
       "      <td>5</td>\n",
       "      <td>8</td>\n",
       "      <td>1440</td>\n",
       "      <td>16390.0</td>\n",
       "      <td>9.641176</td>\n",
       "    </tr>\n",
       "    <tr>\n",
       "      <th>10</th>\n",
       "      <td>Оператор поста управления</td>\n",
       "      <td>4</td>\n",
       "      <td>8</td>\n",
       "      <td>1440</td>\n",
       "      <td>14130.0</td>\n",
       "      <td>8.311765</td>\n",
       "    </tr>\n",
       "    <tr>\n",
       "      <th>11</th>\n",
       "      <td>Подручный вальцовщика</td>\n",
       "      <td>3</td>\n",
       "      <td>18</td>\n",
       "      <td>3240</td>\n",
       "      <td>12180.0</td>\n",
       "      <td>7.164706</td>\n",
       "    </tr>\n",
       "    <tr>\n",
       "      <th>12</th>\n",
       "      <td>Подручный вальцовщика</td>\n",
       "      <td>4</td>\n",
       "      <td>18</td>\n",
       "      <td>3240</td>\n",
       "      <td>14130.0</td>\n",
       "      <td>8.311765</td>\n",
       "    </tr>\n",
       "    <tr>\n",
       "      <th>13</th>\n",
       "      <td>Посадчик металла</td>\n",
       "      <td>4</td>\n",
       "      <td>22</td>\n",
       "      <td>3960</td>\n",
       "      <td>14130.0</td>\n",
       "      <td>8.311765</td>\n",
       "    </tr>\n",
       "    <tr>\n",
       "      <th>14</th>\n",
       "      <td>Резчик горячего металла</td>\n",
       "      <td>4</td>\n",
       "      <td>16</td>\n",
       "      <td>2880</td>\n",
       "      <td>14130.0</td>\n",
       "      <td>8.311765</td>\n",
       "    </tr>\n",
       "    <tr>\n",
       "      <th>15</th>\n",
       "      <td>Уборщик</td>\n",
       "      <td>3</td>\n",
       "      <td>18</td>\n",
       "      <td>3240</td>\n",
       "      <td>12180.0</td>\n",
       "      <td>7.164706</td>\n",
       "    </tr>\n",
       "    <tr>\n",
       "      <th>16</th>\n",
       "      <td>Уборщик вспомогательных помещений</td>\n",
       "      <td>3</td>\n",
       "      <td>0</td>\n",
       "      <td>0</td>\n",
       "      <td>12180.0</td>\n",
       "      <td>7.164706</td>\n",
       "    </tr>\n",
       "  </tbody>\n",
       "</table>\n",
       "</div>"
      ],
      "text/plain": [
       "                               Профессия  Разряд  ...    Оклад  Премия(доп.еденица)\n",
       "0                             Вальцовщик       5  ...  16390.0             9.641176\n",
       "1                             Вальцовщик       6  ...  19020.0            11.188235\n",
       "2                             Вальцовщик       7  ...  22060.0            12.976471\n",
       "3   Контролер качества готовой продукции       7  ...  22060.0            12.976471\n",
       "4                   Нагревальщик металла       7  ...  22060.0            12.976471\n",
       "5                   Нагревальщик металла       4  ...  14130.0             8.311765\n",
       "6                   Нагревальщик металла       5  ...  16390.0             9.641176\n",
       "7                   Нагревальщик металла       6  ...  19020.0            11.188235\n",
       "8                            Огнеупорщик       4  ...  14130.0             8.311765\n",
       "9              Оператор поста управления       5  ...  16390.0             9.641176\n",
       "10             Оператор поста управления       4  ...  14130.0             8.311765\n",
       "11                 Подручный вальцовщика       3  ...  12180.0             7.164706\n",
       "12                 Подручный вальцовщика       4  ...  14130.0             8.311765\n",
       "13                      Посадчик металла       4  ...  14130.0             8.311765\n",
       "14               Резчик горячего металла       4  ...  14130.0             8.311765\n",
       "15                               Уборщик       3  ...  12180.0             7.164706\n",
       "16     Уборщик вспомогательных помещений       3  ...  12180.0             7.164706\n",
       "\n",
       "[17 rows x 6 columns]"
      ]
     },
     "execution_count": 19,
     "metadata": {
      "tags": []
     },
     "output_type": "execute_result"
    }
   ],
   "source": [
    "final = df.iloc[prof_list[~prof_list.duplicated()].index][[\n",
    "  'profession', 'rank', 'harmful', 'harmful_month', 'income', 'bonus'\n",
    "]].sort_values('profession').reset_index(drop=True)\n",
    "\n",
    "final.columns = ['Профессия', 'Разряд', 'Вредность(балл.)', 'Вредность(сумма/месяц)', 'Оклад', 'Премия(доп.еденица)'] \n",
    "final"
   ]
  },
  {
   "cell_type": "markdown",
   "metadata": {
    "id": "HcHkU5fcoOTk"
   },
   "source": [
    "Зарплата работников складывается из оклада в зависимости от профессии и разряда, плюс доплата за вредность 180р за единицу вредности. Также, если объем производства в месяц превышает 850ед. за каждую дополнительную единицу начисляется доплата в зависимости от професии и разряда. В таблице выше представлены уникальные профессии с разрядом, коэффициентом вредности, суммой доплат за вредность в месяц, окладом, а также индивидуальной премией за дополнительную единицу продукции. "
   ]
  }
 ],
 "metadata": {
  "colab": {
   "name": "ЭКОПСИ Консалтинг.ipynb",
   "provenance": []
  },
  "kernelspec": {
   "display_name": "Python 3",
   "language": "python",
   "name": "python3"
  },
  "language_info": {
   "codemirror_mode": {
    "name": "ipython",
    "version": 3
   },
   "file_extension": ".py",
   "mimetype": "text/x-python",
   "name": "python",
   "nbconvert_exporter": "python",
   "pygments_lexer": "ipython3",
   "version": "3.9.2"
  }
 },
 "nbformat": 4,
 "nbformat_minor": 1
}
