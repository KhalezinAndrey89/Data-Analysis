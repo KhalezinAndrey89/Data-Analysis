{
 "cells": [
  {
   "cell_type": "markdown",
   "metadata": {},
   "source": [
    "# Исследование объявлений о продаже квартир\n",
    "\n",
    "В вашем распоряжении данные сервиса Яндекс.Недвижимость — архив объявлений о продаже квартир в Санкт-Петербурге и соседних населённых пунктов за несколько лет. Нужно научиться определять рыночную стоимость объектов недвижимости. Ваша задача — установить параметры. Это позволит построить автоматизированную систему: она отследит аномалии и мошенническую деятельность. \n",
    "\n",
    "По каждой квартире на продажу доступны два вида данных. Первые вписаны пользователем, вторые — получены автоматически на основе картографических данных. Например, расстояние до центра, аэропорта, ближайшего парка и водоёма. "
   ]
  },
  {
   "cell_type": "markdown",
   "metadata": {},
   "source": [
    "### Шаг 1. Откройте файл с данными и изучите общую информацию. "
   ]
  },
  {
   "cell_type": "markdown",
   "metadata": {},
   "source": [
    "*Приступим. Посмотрим на данные, выведем первые пять строк таблицы:*"
   ]
  },
  {
   "cell_type": "code",
   "execution_count": 1,
   "metadata": {},
   "outputs": [],
   "source": [
    "import pandas as pd"
   ]
  },
  {
   "cell_type": "code",
   "execution_count": 2,
   "metadata": {},
   "outputs": [
    {
     "data": {
      "text/html": [
       "<div>\n",
       "<style scoped>\n",
       "    .dataframe tbody tr th:only-of-type {\n",
       "        vertical-align: middle;\n",
       "    }\n",
       "\n",
       "    .dataframe tbody tr th {\n",
       "        vertical-align: top;\n",
       "    }\n",
       "\n",
       "    .dataframe thead th {\n",
       "        text-align: right;\n",
       "    }\n",
       "</style>\n",
       "<table border=\"1\" class=\"dataframe\">\n",
       "  <thead>\n",
       "    <tr style=\"text-align: right;\">\n",
       "      <th></th>\n",
       "      <th>total_images\\tlast_price\\ttotal_area\\tfirst_day_exposition\\trooms\\tceiling_height\\tfloors_total\\tliving_area\\tfloor\\tis_apartment\\tstudio\\topen_plan\\tkitchen_area\\tbalcony\\tlocality_name\\tairports_nearest\\tcityCenters_nearest\\tparks_around3000\\tparks_nearest\\tponds_around3000\\tponds_nearest\\tdays_exposition</th>\n",
       "    </tr>\n",
       "  </thead>\n",
       "  <tbody>\n",
       "    <tr>\n",
       "      <td>0</td>\n",
       "      <td>20\\t13000000.0\\t108.0\\t2019-03-07T00:00:00\\t3\\...</td>\n",
       "    </tr>\n",
       "    <tr>\n",
       "      <td>1</td>\n",
       "      <td>7\\t3350000.0\\t40.4\\t2018-12-04T00:00:00\\t1\\t\\t...</td>\n",
       "    </tr>\n",
       "    <tr>\n",
       "      <td>2</td>\n",
       "      <td>10\\t5196000.0\\t56.0\\t2015-08-20T00:00:00\\t2\\t\\...</td>\n",
       "    </tr>\n",
       "    <tr>\n",
       "      <td>3</td>\n",
       "      <td>0\\t64900000.0\\t159.0\\t2015-07-24T00:00:00\\t3\\t...</td>\n",
       "    </tr>\n",
       "    <tr>\n",
       "      <td>4</td>\n",
       "      <td>2\\t10000000.0\\t100.0\\t2018-06-19T00:00:00\\t2\\t...</td>\n",
       "    </tr>\n",
       "  </tbody>\n",
       "</table>\n",
       "</div>"
      ],
      "text/plain": [
       "  total_images\\tlast_price\\ttotal_area\\tfirst_day_exposition\\trooms\\tceiling_height\\tfloors_total\\tliving_area\\tfloor\\tis_apartment\\tstudio\\topen_plan\\tkitchen_area\\tbalcony\\tlocality_name\\tairports_nearest\\tcityCenters_nearest\\tparks_around3000\\tparks_nearest\\tponds_around3000\\tponds_nearest\\tdays_exposition\n",
       "0  20\\t13000000.0\\t108.0\\t2019-03-07T00:00:00\\t3\\...                                                                                                                                                                                                                                                                  \n",
       "1  7\\t3350000.0\\t40.4\\t2018-12-04T00:00:00\\t1\\t\\t...                                                                                                                                                                                                                                                                  \n",
       "2  10\\t5196000.0\\t56.0\\t2015-08-20T00:00:00\\t2\\t\\...                                                                                                                                                                                                                                                                  \n",
       "3  0\\t64900000.0\\t159.0\\t2015-07-24T00:00:00\\t3\\t...                                                                                                                                                                                                                                                                  \n",
       "4  2\\t10000000.0\\t100.0\\t2018-06-19T00:00:00\\t2\\t...                                                                                                                                                                                                                                                                  "
      ]
     },
     "execution_count": 2,
     "metadata": {},
     "output_type": "execute_result"
    }
   ],
   "source": [
    "df = pd.read_csv('/datasets/real_estate_data.csv')\n",
    "df.head()"
   ]
  },
  {
   "cell_type": "markdown",
   "metadata": {},
   "source": [
    "*Из таблицы видно, что строки таблицы разделены символом **\"\\t\"**, поэтому все значения слились в одну единую строку. Разделим строки, применив аргумент **\"sep\"** со значением **\"\\t\"**:*"
   ]
  },
  {
   "cell_type": "code",
   "execution_count": 3,
   "metadata": {},
   "outputs": [
    {
     "data": {
      "text/html": [
       "<div>\n",
       "<style scoped>\n",
       "    .dataframe tbody tr th:only-of-type {\n",
       "        vertical-align: middle;\n",
       "    }\n",
       "\n",
       "    .dataframe tbody tr th {\n",
       "        vertical-align: top;\n",
       "    }\n",
       "\n",
       "    .dataframe thead th {\n",
       "        text-align: right;\n",
       "    }\n",
       "</style>\n",
       "<table border=\"1\" class=\"dataframe\">\n",
       "  <thead>\n",
       "    <tr style=\"text-align: right;\">\n",
       "      <th></th>\n",
       "      <th>total_images</th>\n",
       "      <th>last_price</th>\n",
       "      <th>total_area</th>\n",
       "      <th>first_day_exposition</th>\n",
       "      <th>rooms</th>\n",
       "      <th>ceiling_height</th>\n",
       "      <th>floors_total</th>\n",
       "      <th>living_area</th>\n",
       "      <th>floor</th>\n",
       "      <th>is_apartment</th>\n",
       "      <th>...</th>\n",
       "      <th>kitchen_area</th>\n",
       "      <th>balcony</th>\n",
       "      <th>locality_name</th>\n",
       "      <th>airports_nearest</th>\n",
       "      <th>cityCenters_nearest</th>\n",
       "      <th>parks_around3000</th>\n",
       "      <th>parks_nearest</th>\n",
       "      <th>ponds_around3000</th>\n",
       "      <th>ponds_nearest</th>\n",
       "      <th>days_exposition</th>\n",
       "    </tr>\n",
       "  </thead>\n",
       "  <tbody>\n",
       "    <tr>\n",
       "      <td>0</td>\n",
       "      <td>20</td>\n",
       "      <td>13000000.0</td>\n",
       "      <td>108.0</td>\n",
       "      <td>2019-03-07T00:00:00</td>\n",
       "      <td>3</td>\n",
       "      <td>2.70</td>\n",
       "      <td>16.0</td>\n",
       "      <td>51.0</td>\n",
       "      <td>8</td>\n",
       "      <td>NaN</td>\n",
       "      <td>...</td>\n",
       "      <td>25.0</td>\n",
       "      <td>NaN</td>\n",
       "      <td>Санкт-Петербург</td>\n",
       "      <td>18863.0</td>\n",
       "      <td>16028.0</td>\n",
       "      <td>1.0</td>\n",
       "      <td>482.0</td>\n",
       "      <td>2.0</td>\n",
       "      <td>755.0</td>\n",
       "      <td>NaN</td>\n",
       "    </tr>\n",
       "    <tr>\n",
       "      <td>1</td>\n",
       "      <td>7</td>\n",
       "      <td>3350000.0</td>\n",
       "      <td>40.4</td>\n",
       "      <td>2018-12-04T00:00:00</td>\n",
       "      <td>1</td>\n",
       "      <td>NaN</td>\n",
       "      <td>11.0</td>\n",
       "      <td>18.6</td>\n",
       "      <td>1</td>\n",
       "      <td>NaN</td>\n",
       "      <td>...</td>\n",
       "      <td>11.0</td>\n",
       "      <td>2.0</td>\n",
       "      <td>посёлок Шушары</td>\n",
       "      <td>12817.0</td>\n",
       "      <td>18603.0</td>\n",
       "      <td>0.0</td>\n",
       "      <td>NaN</td>\n",
       "      <td>0.0</td>\n",
       "      <td>NaN</td>\n",
       "      <td>81.0</td>\n",
       "    </tr>\n",
       "    <tr>\n",
       "      <td>2</td>\n",
       "      <td>10</td>\n",
       "      <td>5196000.0</td>\n",
       "      <td>56.0</td>\n",
       "      <td>2015-08-20T00:00:00</td>\n",
       "      <td>2</td>\n",
       "      <td>NaN</td>\n",
       "      <td>5.0</td>\n",
       "      <td>34.3</td>\n",
       "      <td>4</td>\n",
       "      <td>NaN</td>\n",
       "      <td>...</td>\n",
       "      <td>8.3</td>\n",
       "      <td>0.0</td>\n",
       "      <td>Санкт-Петербург</td>\n",
       "      <td>21741.0</td>\n",
       "      <td>13933.0</td>\n",
       "      <td>1.0</td>\n",
       "      <td>90.0</td>\n",
       "      <td>2.0</td>\n",
       "      <td>574.0</td>\n",
       "      <td>558.0</td>\n",
       "    </tr>\n",
       "    <tr>\n",
       "      <td>3</td>\n",
       "      <td>0</td>\n",
       "      <td>64900000.0</td>\n",
       "      <td>159.0</td>\n",
       "      <td>2015-07-24T00:00:00</td>\n",
       "      <td>3</td>\n",
       "      <td>NaN</td>\n",
       "      <td>14.0</td>\n",
       "      <td>NaN</td>\n",
       "      <td>9</td>\n",
       "      <td>NaN</td>\n",
       "      <td>...</td>\n",
       "      <td>NaN</td>\n",
       "      <td>0.0</td>\n",
       "      <td>Санкт-Петербург</td>\n",
       "      <td>28098.0</td>\n",
       "      <td>6800.0</td>\n",
       "      <td>2.0</td>\n",
       "      <td>84.0</td>\n",
       "      <td>3.0</td>\n",
       "      <td>234.0</td>\n",
       "      <td>424.0</td>\n",
       "    </tr>\n",
       "    <tr>\n",
       "      <td>4</td>\n",
       "      <td>2</td>\n",
       "      <td>10000000.0</td>\n",
       "      <td>100.0</td>\n",
       "      <td>2018-06-19T00:00:00</td>\n",
       "      <td>2</td>\n",
       "      <td>3.03</td>\n",
       "      <td>14.0</td>\n",
       "      <td>32.0</td>\n",
       "      <td>13</td>\n",
       "      <td>NaN</td>\n",
       "      <td>...</td>\n",
       "      <td>41.0</td>\n",
       "      <td>NaN</td>\n",
       "      <td>Санкт-Петербург</td>\n",
       "      <td>31856.0</td>\n",
       "      <td>8098.0</td>\n",
       "      <td>2.0</td>\n",
       "      <td>112.0</td>\n",
       "      <td>1.0</td>\n",
       "      <td>48.0</td>\n",
       "      <td>121.0</td>\n",
       "    </tr>\n",
       "  </tbody>\n",
       "</table>\n",
       "<p>5 rows × 22 columns</p>\n",
       "</div>"
      ],
      "text/plain": [
       "   total_images  last_price  total_area first_day_exposition  rooms  \\\n",
       "0            20  13000000.0       108.0  2019-03-07T00:00:00      3   \n",
       "1             7   3350000.0        40.4  2018-12-04T00:00:00      1   \n",
       "2            10   5196000.0        56.0  2015-08-20T00:00:00      2   \n",
       "3             0  64900000.0       159.0  2015-07-24T00:00:00      3   \n",
       "4             2  10000000.0       100.0  2018-06-19T00:00:00      2   \n",
       "\n",
       "   ceiling_height  floors_total  living_area  floor is_apartment  ...  \\\n",
       "0            2.70          16.0         51.0      8          NaN  ...   \n",
       "1             NaN          11.0         18.6      1          NaN  ...   \n",
       "2             NaN           5.0         34.3      4          NaN  ...   \n",
       "3             NaN          14.0          NaN      9          NaN  ...   \n",
       "4            3.03          14.0         32.0     13          NaN  ...   \n",
       "\n",
       "   kitchen_area  balcony    locality_name  airports_nearest  \\\n",
       "0          25.0      NaN  Санкт-Петербург           18863.0   \n",
       "1          11.0      2.0   посёлок Шушары           12817.0   \n",
       "2           8.3      0.0  Санкт-Петербург           21741.0   \n",
       "3           NaN      0.0  Санкт-Петербург           28098.0   \n",
       "4          41.0      NaN  Санкт-Петербург           31856.0   \n",
       "\n",
       "  cityCenters_nearest  parks_around3000  parks_nearest  ponds_around3000  \\\n",
       "0             16028.0               1.0          482.0               2.0   \n",
       "1             18603.0               0.0            NaN               0.0   \n",
       "2             13933.0               1.0           90.0               2.0   \n",
       "3              6800.0               2.0           84.0               3.0   \n",
       "4              8098.0               2.0          112.0               1.0   \n",
       "\n",
       "   ponds_nearest  days_exposition  \n",
       "0          755.0              NaN  \n",
       "1            NaN             81.0  \n",
       "2          574.0            558.0  \n",
       "3          234.0            424.0  \n",
       "4           48.0            121.0  \n",
       "\n",
       "[5 rows x 22 columns]"
      ]
     },
     "execution_count": 3,
     "metadata": {},
     "output_type": "execute_result"
    }
   ],
   "source": [
    "df = pd.read_csv('/datasets/real_estate_data.csv', sep='\\t')\n",
    "df.head()"
   ]
  },
  {
   "cell_type": "markdown",
   "metadata": {},
   "source": [
    "*Теперь выведем общую информацию о таблице. Применим метод **info()**:*"
   ]
  },
  {
   "cell_type": "code",
   "execution_count": 4,
   "metadata": {},
   "outputs": [
    {
     "name": "stdout",
     "output_type": "stream",
     "text": [
      "<class 'pandas.core.frame.DataFrame'>\n",
      "RangeIndex: 23699 entries, 0 to 23698\n",
      "Data columns (total 22 columns):\n",
      "total_images            23699 non-null int64\n",
      "last_price              23699 non-null float64\n",
      "total_area              23699 non-null float64\n",
      "first_day_exposition    23699 non-null object\n",
      "rooms                   23699 non-null int64\n",
      "ceiling_height          14504 non-null float64\n",
      "floors_total            23613 non-null float64\n",
      "living_area             21796 non-null float64\n",
      "floor                   23699 non-null int64\n",
      "is_apartment            2775 non-null object\n",
      "studio                  23699 non-null bool\n",
      "open_plan               23699 non-null bool\n",
      "kitchen_area            21421 non-null float64\n",
      "balcony                 12180 non-null float64\n",
      "locality_name           23650 non-null object\n",
      "airports_nearest        18157 non-null float64\n",
      "cityCenters_nearest     18180 non-null float64\n",
      "parks_around3000        18181 non-null float64\n",
      "parks_nearest           8079 non-null float64\n",
      "ponds_around3000        18181 non-null float64\n",
      "ponds_nearest           9110 non-null float64\n",
      "days_exposition         20518 non-null float64\n",
      "dtypes: bool(2), float64(14), int64(3), object(3)\n",
      "memory usage: 3.7+ MB\n"
     ]
    }
   ],
   "source": [
    "df.info()"
   ]
  },
  {
   "cell_type": "markdown",
   "metadata": {},
   "source": [
    "### Вывод"
   ]
  },
  {
   "cell_type": "markdown",
   "metadata": {},
   "source": [
    "*В таблице df 22 колоноки и 23699 строк. В таблице 3 целочисленных столбца, 3 столбца строчного типа, 14 столбцов вещественного типа и 2 столбца логическогого типа. В столбцах ceiling_height, floors_total, living_area,  is_apartment, kitchen_area, balcony, locality_name, airports_nearest , cityCenters_nearest, parks_around3000, parks_nearest, ponds_around3000, ponds_nearest, days_exposition пропущены значения.*"
   ]
  },
  {
   "cell_type": "markdown",
   "metadata": {},
   "source": [
    "### Шаг 2. Предобработка данных"
   ]
  },
  {
   "cell_type": "markdown",
   "metadata": {},
   "source": [
    "*Посмотрим, какой процент пропущеных значений в каждом столбце. Пременим конструкцию **\".isna().mean()\"**:*"
   ]
  },
  {
   "cell_type": "code",
   "execution_count": 5,
   "metadata": {
    "scrolled": false
   },
   "outputs": [
    {
     "data": {
      "text/plain": [
       "total_images             0.000000\n",
       "last_price               0.000000\n",
       "total_area               0.000000\n",
       "first_day_exposition     0.000000\n",
       "rooms                    0.000000\n",
       "ceiling_height          38.799105\n",
       "floors_total             0.362885\n",
       "living_area              8.029875\n",
       "floor                    0.000000\n",
       "is_apartment            88.290645\n",
       "studio                   0.000000\n",
       "open_plan                0.000000\n",
       "kitchen_area             9.612220\n",
       "balcony                 48.605426\n",
       "locality_name            0.206760\n",
       "airports_nearest        23.384953\n",
       "cityCenters_nearest     23.287902\n",
       "parks_around3000        23.283683\n",
       "parks_nearest           65.909954\n",
       "ponds_around3000        23.283683\n",
       "ponds_nearest           61.559559\n",
       "days_exposition         13.422507\n",
       "dtype: float64"
      ]
     },
     "execution_count": 5,
     "metadata": {},
     "output_type": "execute_result"
    }
   ],
   "source": [
    "df.isna().mean() * 100"
   ]
  },
  {
   "cell_type": "markdown",
   "metadata": {},
   "source": [
    "**==================================================================================================================**"
   ]
  },
  {
   "cell_type": "markdown",
   "metadata": {},
   "source": [
    "*Посмотрим на столбец ceiling_height (высота потолков (м)). В столбце ceiling_height пропущено 38% значений. Выведем основные данные с помощью метода **.describe()**:*"
   ]
  },
  {
   "cell_type": "code",
   "execution_count": 6,
   "metadata": {},
   "outputs": [
    {
     "data": {
      "text/plain": [
       "count    14504.000000\n",
       "mean         2.771499\n",
       "std          1.261056\n",
       "min          1.000000\n",
       "25%          2.520000\n",
       "50%          2.650000\n",
       "75%          2.800000\n",
       "max        100.000000\n",
       "Name: ceiling_height, dtype: float64"
      ]
     },
     "execution_count": 6,
     "metadata": {},
     "output_type": "execute_result"
    }
   ],
   "source": [
    "df['ceiling_height'].describe()"
   ]
  },
  {
   "cell_type": "markdown",
   "metadata": {},
   "source": [
    "*Из вывода видно, что в данных присутствуют выбросы (высота потолков 1 и 100 метров, как минимальное и максимальное значения),  поэтому среднее арифметическое не подходит для заполнения пропусков. Медиана соответствует стандартной высоте потолков 2.65м. Заполним пропущеные значения медианой:*"
   ]
  },
  {
   "cell_type": "code",
   "execution_count": 7,
   "metadata": {},
   "outputs": [],
   "source": [
    "df['ceiling_height'] = df['ceiling_height'].fillna(df['ceiling_height'].median())"
   ]
  },
  {
   "cell_type": "markdown",
   "metadata": {},
   "source": [
    "**==================================================================================================================**"
   ]
  },
  {
   "cell_type": "markdown",
   "metadata": {},
   "source": [
    "*Посмотрим на столбец floors_total (всего этажей в доме). В столбце floors_total пропущено 0.3% значений. Точно определить этаж, по косвенным признакам, у нас не получится и процент пропущеных значений не большой. Поэтому подставим в пустые значения заполнитель (в качестве заполнителя используем значение 0). Заполним пустые значения:* "
   ]
  },
  {
   "cell_type": "code",
   "execution_count": 8,
   "metadata": {},
   "outputs": [],
   "source": [
    "df['floors_total'] = df['floors_total'].fillna(0)"
   ]
  },
  {
   "cell_type": "markdown",
   "metadata": {},
   "source": [
    "**==================================================================================================================**"
   ]
  },
  {
   "cell_type": "markdown",
   "metadata": {},
   "source": [
    "*Посмотрим на столбец kitchen_area (площадь кухни в квадратных метрах (м²)). В столбце kitchen_area пропущено 9% значений. Попробуем определить размер кухни с помощью столбца total_area (площадь квартиры в квадратных метрах (м²)). Построим гистограмму для столбца total_area, при условии, что столбец kitchen_area будет равен NaN:*"
   ]
  },
  {
   "cell_type": "code",
   "execution_count": 9,
   "metadata": {},
   "outputs": [
    {
     "data": {
      "text/plain": [
       "<matplotlib.axes._subplots.AxesSubplot at 0x7f5c0c2c7410>"
      ]
     },
     "execution_count": 9,
     "metadata": {},
     "output_type": "execute_result"
    },
    {
     "data": {
      "image/png": "[encoded data removed]",
      "text/plain": [
       "<Figure size 432x288 with 1 Axes>"
      ]
     },
     "metadata": {
      "needs_background": "light"
     },
     "output_type": "display_data"
    }
   ],
   "source": [
    "df[df['kitchen_area'].isna()]['total_area'].hist(bins=20, range=(0, 200))"
   ]
  },
  {
   "cell_type": "markdown",
   "metadata": {},
   "source": [
    "*Из графика видно, что основная масса пропущеных значений приходится на диапазон от 10 до 150 м², столбца total_area. Посчитаем, какой процент пропущенных значений покрывает этот диапазон:*"
   ]
  },
  {
   "cell_type": "code",
   "execution_count": 10,
   "metadata": {},
   "outputs": [
    {
     "data": {
      "text/plain": [
       "97.01492537313433"
      ]
     },
     "execution_count": 10,
     "metadata": {},
     "output_type": "execute_result"
    }
   ],
   "source": [
    "df.query('kitchen_area.isna() and (total_area >= 10 and total_area <= 150)')['total_area'].count() / df['kitchen_area'].isna().sum() * 100"
   ]
  },
  {
   "cell_type": "markdown",
   "metadata": {},
   "source": [
    "*Количество пропущеных значений столбца kitchen_area, в заданом диапазоне столбца total_area, составляет 97%. Разобьем весь диапазон на 5 категорий (от 10 до 20, от 20 до 40, от 40 до 80, от 80 до 150 и от 150 до inf). Присвоим медиану каждой категории в пропущенных значених в зависимости от диапазона:*"
   ]
  },
  {
   "cell_type": "code",
   "execution_count": 11,
   "metadata": {},
   "outputs": [],
   "source": [
    "df.loc[(df['total_area'] >= 10) & (df['total_area'] < 20), 'kitchen_area'] = df.fillna(df.query('total_area >= 10 and total_area < 20')['kitchen_area'].median())"
   ]
  },
  {
   "cell_type": "code",
   "execution_count": 12,
   "metadata": {},
   "outputs": [],
   "source": [
    "df.loc[(df['total_area'] >= 20) & (df['total_area'] < 40), 'kitchen_area'] = df.fillna(df.query('total_area >= 20 and total_area < 40')['kitchen_area'].median())"
   ]
  },
  {
   "cell_type": "code",
   "execution_count": 13,
   "metadata": {},
   "outputs": [],
   "source": [
    "df.loc[(df['total_area'] >= 40) & (df['total_area'] < 80), 'kitchen_area'] = df.fillna(df.query('total_area >= 40 and total_area < 80')['kitchen_area'].median())"
   ]
  },
  {
   "cell_type": "code",
   "execution_count": 14,
   "metadata": {},
   "outputs": [],
   "source": [
    "df.loc[(df['total_area'] >= 80) & (df['total_area'] < 150), 'kitchen_area'] = df.fillna(df.query('total_area >= 80 and total_area < 150')['kitchen_area'].median())"
   ]
  },
  {
   "cell_type": "code",
   "execution_count": 15,
   "metadata": {},
   "outputs": [],
   "source": [
    "import numpy as np\n",
    "df.loc[(df['total_area'] >= 150) & (df['total_area'] < np.inf), 'kitchen_area'] = df.fillna(df.query('total_area >= 150 and total_area < inf')['kitchen_area'].median())"
   ]
  },
  {
   "cell_type": "markdown",
   "metadata": {},
   "source": [
    "*Средняя кухня:*\n",
    "   - *В диапазоне от 10 до 20 составляет 2.7м²*\n",
    "   - *В диапазоне от 20 до 40 составляет 8.1м²*\n",
    "   - *В диапазоне от 40 до 80 составляет 9.0м²*\n",
    "   - *В диапазоне от 80 до 150 составляет 13.6м²*\n",
    "   - *В диапазоне от 150 до inf составляет 20.0м²*"
   ]
  },
  {
   "cell_type": "markdown",
   "metadata": {},
   "source": [
    "**==================================================================================================================**"
   ]
  },
  {
   "cell_type": "markdown",
   "metadata": {},
   "source": [
    "*Посмотрим на столбец living_area (жилая площадь в квадратных метрах(м²)). В столбце living_area пропущено 8% значений. Попробуем, также как со столбцом kitchen_area, найти значения пропущеных строк через столбец living_area, через столбец total_area. Построим гистограмму для столбца total_area, при условии, что столбец living_area будет равен NaN:*"
   ]
  },
  {
   "cell_type": "code",
   "execution_count": 16,
   "metadata": {},
   "outputs": [
    {
     "data": {
      "text/plain": [
       "<matplotlib.axes._subplots.AxesSubplot at 0x7f5c0b7a9110>"
      ]
     },
     "execution_count": 16,
     "metadata": {},
     "output_type": "execute_result"
    },
    {
     "data": {
      "image/png": "[encoded data removed]",
      "text/plain": [
       "<Figure size 432x288 with 1 Axes>"
      ]
     },
     "metadata": {
      "needs_background": "light"
     },
     "output_type": "display_data"
    }
   ],
   "source": [
    "df[df['living_area'].isna()]['total_area'].hist(bins=20, range=(0, 200))"
   ]
  },
  {
   "cell_type": "markdown",
   "metadata": {},
   "source": [
    "*Из графика видно, что основная масса пропущеных значений приходится на диапазон от 10 до 150 м² столбца total_area. Посчитаем, какой процент пропущенных значений покрывает этот диапазон:*"
   ]
  },
  {
   "cell_type": "code",
   "execution_count": 17,
   "metadata": {},
   "outputs": [
    {
     "data": {
      "text/plain": [
       "96.32159747766684"
      ]
     },
     "execution_count": 17,
     "metadata": {},
     "output_type": "execute_result"
    }
   ],
   "source": [
    "df.query('living_area.isna() and (total_area > 10 and total_area < 150)')['total_area'].count() / df['living_area'].isna().sum() * 100"
   ]
  },
  {
   "cell_type": "markdown",
   "metadata": {},
   "source": [
    "*Колличество пропущеных значений столбца living_area, в заданном диапазоне столбца total_area, составляет 96%. Разобьем весь диапазон на 5 категорий (от 10 до 20, от 20 до 40, от 40 до 80, от 80 до 150 и от 150 до inf). Присвоим медиану каждой категории в пропущенных значениях в зависимости от диапазона:*"
   ]
  },
  {
   "cell_type": "code",
   "execution_count": 18,
   "metadata": {},
   "outputs": [],
   "source": [
    "df.loc[(df['total_area'] >= 10) & (df['total_area'] < 20), 'living_area'] = df.fillna(df.query('total_area >= 10 and total_area < 20')['living_area'].median())"
   ]
  },
  {
   "cell_type": "code",
   "execution_count": 19,
   "metadata": {},
   "outputs": [],
   "source": [
    "df.loc[(df['total_area'] >= 20) & (df['total_area'] < 40), 'living_area'] = df.fillna(df.query('total_area >= 20 and total_area < 40')['living_area'].median())"
   ]
  },
  {
   "cell_type": "code",
   "execution_count": 20,
   "metadata": {},
   "outputs": [],
   "source": [
    "df.loc[(df['total_area'] >= 40) & (df['total_area'] < 80), 'living_area'] = df.fillna(df.query('total_area >= 40 and total_area < 80')['living_area'].median())"
   ]
  },
  {
   "cell_type": "code",
   "execution_count": 21,
   "metadata": {},
   "outputs": [],
   "source": [
    "df.loc[(df['total_area'] >= 80) & (df['total_area'] < 150), 'living_area'] = df.fillna(df.query('total_area >= 80 and total_area < 150')['living_area'].median())"
   ]
  },
  {
   "cell_type": "code",
   "execution_count": 22,
   "metadata": {},
   "outputs": [],
   "source": [
    "df.loc[(df['total_area'] >= 150) & (df['total_area'] < np.inf), 'living_area'] = df.fillna(df.query('total_area >= 150 and total_area < inf')['living_area'].median())"
   ]
  },
  {
   "cell_type": "markdown",
   "metadata": {},
   "source": [
    "*Средняя жилая площадь:*\n",
    "   - *В диапазоне от 10 до 20 составляет 13м²*\n",
    "   - *В диапазоне от 20 до 40 составляет 17.2м²*\n",
    "   - *В диапазоне от 40 до 80 составляет 31.0м²*\n",
    "   - *В диапазоне от 80 до 150 составляет 55.0м²*\n",
    "   - *В диапазоне от 150 до inf составляет 111.0м²*"
   ]
  },
  {
   "cell_type": "markdown",
   "metadata": {},
   "source": [
    "**==================================================================================================================**"
   ]
  },
  {
   "cell_type": "markdown",
   "metadata": {},
   "source": [
    "*Посмотрим на столбец is_apartment (апартаменты). В столбце floors_total пропущено 88% значений. Будем считать, что незаполненные значения - это отрицание того, что данная недвижимость принадлежит к категории апартаменты. Так как столбец имеет логический тип данных, заполним пустые ячейки таблицы значением \"False\":*"
   ]
  },
  {
   "cell_type": "code",
   "execution_count": 23,
   "metadata": {},
   "outputs": [],
   "source": [
    "df['is_apartment'] = df['is_apartment'].fillna(False)"
   ]
  },
  {
   "cell_type": "markdown",
   "metadata": {},
   "source": [
    "**==================================================================================================================**"
   ]
  },
  {
   "cell_type": "markdown",
   "metadata": {},
   "source": [
    "*Посмотрим на столбец balcony (число балконов). В столбце balcony пропущено 48% значений. По аналогии со столбцом is_apartment, будем считать, что незаполненные значения - это отрицание наличия балкона. Заполним пропущенные пустые ячейки таблицы значением \"0\":*"
   ]
  },
  {
   "cell_type": "code",
   "execution_count": 24,
   "metadata": {},
   "outputs": [],
   "source": [
    "df['balcony'] = df['balcony'].fillna(0)"
   ]
  },
  {
   "cell_type": "markdown",
   "metadata": {},
   "source": [
    "**==================================================================================================================**"
   ]
  },
  {
   "cell_type": "markdown",
   "metadata": {},
   "source": [
    "*Посмотрим на столбец locality_name (название населённого пункта). В столбце locality_name пропущено 0.2% значений. Точно определить населённый пункт (по косвенным признакам) у нас не получится. Заполним пропуски значением \"unknown\":*"
   ]
  },
  {
   "cell_type": "code",
   "execution_count": 25,
   "metadata": {},
   "outputs": [],
   "source": [
    "df['locality_name'] = df['locality_name'].fillna('unknown')"
   ]
  },
  {
   "cell_type": "markdown",
   "metadata": {},
   "source": [
    "**==================================================================================================================**"
   ]
  },
  {
   "cell_type": "markdown",
   "metadata": {},
   "source": [
    "*Посмотрим на столбцы airports_nearest, cityCenters_nearest, parks_around3000 и ponds_around3000 (расстояние до ближайшего аэропорта в метрах (м), расстояние до центра города (м), число парков в радиусе 3 км, число водоёмов в радиусе 3 км). В столбцах одинаковое количество пропусков составляет 23%, возможно между пропусками есть связь. Составим сводную таблицу, индексом в ней будут значения столбца locality_name. Так как, по условию задания, данная информация заполняется автоматически, возможно она заполняется только для определенных районов, проверим.*"
   ]
  },
  {
   "cell_type": "code",
   "execution_count": 26,
   "metadata": {},
   "outputs": [],
   "source": [
    "filled_values = (df\n",
    "     .query('airports_nearest.notna() and cityCenters_nearest.notna() and parks_around3000.notna() and ponds_around3000.notna()')\n",
    "     .pivot_table(index='locality_name', values=['airports_nearest', 'cityCenters_nearest', 'parks_around3000', 'ponds_around3000'], aggfunc='count')\n",
    "     .sort_values('airports_nearest', ascending=False)\n",
    ")"
   ]
  },
  {
   "cell_type": "code",
   "execution_count": 27,
   "metadata": {},
   "outputs": [
    {
     "data": {
      "text/html": [
       "<div>\n",
       "<style scoped>\n",
       "    .dataframe tbody tr th:only-of-type {\n",
       "        vertical-align: middle;\n",
       "    }\n",
       "\n",
       "    .dataframe tbody tr th {\n",
       "        vertical-align: top;\n",
       "    }\n",
       "\n",
       "    .dataframe thead th {\n",
       "        text-align: right;\n",
       "    }\n",
       "</style>\n",
       "<table border=\"1\" class=\"dataframe\">\n",
       "  <thead>\n",
       "    <tr style=\"text-align: right;\">\n",
       "      <th></th>\n",
       "      <th>airports_nearest</th>\n",
       "      <th>cityCenters_nearest</th>\n",
       "      <th>parks_around3000</th>\n",
       "      <th>ponds_around3000</th>\n",
       "    </tr>\n",
       "    <tr>\n",
       "      <th>locality_name</th>\n",
       "      <th></th>\n",
       "      <th></th>\n",
       "      <th></th>\n",
       "      <th></th>\n",
       "    </tr>\n",
       "  </thead>\n",
       "  <tbody>\n",
       "    <tr>\n",
       "      <td>Санкт-Петербург</td>\n",
       "      <td>15636</td>\n",
       "      <td>15636</td>\n",
       "      <td>15636</td>\n",
       "      <td>15636</td>\n",
       "    </tr>\n",
       "    <tr>\n",
       "      <td>посёлок Шушары</td>\n",
       "      <td>436</td>\n",
       "      <td>436</td>\n",
       "      <td>436</td>\n",
       "      <td>436</td>\n",
       "    </tr>\n",
       "    <tr>\n",
       "      <td>Пушкин</td>\n",
       "      <td>368</td>\n",
       "      <td>368</td>\n",
       "      <td>368</td>\n",
       "      <td>368</td>\n",
       "    </tr>\n",
       "    <tr>\n",
       "      <td>Колпино</td>\n",
       "      <td>337</td>\n",
       "      <td>337</td>\n",
       "      <td>337</td>\n",
       "      <td>337</td>\n",
       "    </tr>\n",
       "    <tr>\n",
       "      <td>посёлок Парголово</td>\n",
       "      <td>327</td>\n",
       "      <td>327</td>\n",
       "      <td>327</td>\n",
       "      <td>327</td>\n",
       "    </tr>\n",
       "    <tr>\n",
       "      <td>Петергоф</td>\n",
       "      <td>201</td>\n",
       "      <td>201</td>\n",
       "      <td>201</td>\n",
       "      <td>201</td>\n",
       "    </tr>\n",
       "    <tr>\n",
       "      <td>Сестрорецк</td>\n",
       "      <td>183</td>\n",
       "      <td>183</td>\n",
       "      <td>183</td>\n",
       "      <td>183</td>\n",
       "    </tr>\n",
       "    <tr>\n",
       "      <td>Красное Село</td>\n",
       "      <td>176</td>\n",
       "      <td>176</td>\n",
       "      <td>176</td>\n",
       "      <td>176</td>\n",
       "    </tr>\n",
       "    <tr>\n",
       "      <td>Ломоносов</td>\n",
       "      <td>132</td>\n",
       "      <td>132</td>\n",
       "      <td>132</td>\n",
       "      <td>132</td>\n",
       "    </tr>\n",
       "    <tr>\n",
       "      <td>Кронштадт</td>\n",
       "      <td>95</td>\n",
       "      <td>95</td>\n",
       "      <td>95</td>\n",
       "      <td>95</td>\n",
       "    </tr>\n",
       "    <tr>\n",
       "      <td>посёлок Металлострой</td>\n",
       "      <td>66</td>\n",
       "      <td>66</td>\n",
       "      <td>66</td>\n",
       "      <td>66</td>\n",
       "    </tr>\n",
       "    <tr>\n",
       "      <td>посёлок Стрельна</td>\n",
       "      <td>44</td>\n",
       "      <td>44</td>\n",
       "      <td>44</td>\n",
       "      <td>44</td>\n",
       "    </tr>\n",
       "    <tr>\n",
       "      <td>unknown</td>\n",
       "      <td>41</td>\n",
       "      <td>41</td>\n",
       "      <td>41</td>\n",
       "      <td>41</td>\n",
       "    </tr>\n",
       "    <tr>\n",
       "      <td>Павловск</td>\n",
       "      <td>38</td>\n",
       "      <td>38</td>\n",
       "      <td>38</td>\n",
       "      <td>38</td>\n",
       "    </tr>\n",
       "    <tr>\n",
       "      <td>Зеленогорск</td>\n",
       "      <td>24</td>\n",
       "      <td>24</td>\n",
       "      <td>24</td>\n",
       "      <td>24</td>\n",
       "    </tr>\n",
       "    <tr>\n",
       "      <td>посёлок Понтонный</td>\n",
       "      <td>20</td>\n",
       "      <td>20</td>\n",
       "      <td>20</td>\n",
       "      <td>20</td>\n",
       "    </tr>\n",
       "    <tr>\n",
       "      <td>посёлок Сапёрный</td>\n",
       "      <td>6</td>\n",
       "      <td>6</td>\n",
       "      <td>6</td>\n",
       "      <td>6</td>\n",
       "    </tr>\n",
       "    <tr>\n",
       "      <td>посёлок Молодёжное</td>\n",
       "      <td>5</td>\n",
       "      <td>5</td>\n",
       "      <td>5</td>\n",
       "      <td>5</td>\n",
       "    </tr>\n",
       "    <tr>\n",
       "      <td>посёлок Песочный</td>\n",
       "      <td>4</td>\n",
       "      <td>4</td>\n",
       "      <td>4</td>\n",
       "      <td>4</td>\n",
       "    </tr>\n",
       "    <tr>\n",
       "      <td>посёлок Репино</td>\n",
       "      <td>4</td>\n",
       "      <td>4</td>\n",
       "      <td>4</td>\n",
       "      <td>4</td>\n",
       "    </tr>\n",
       "    <tr>\n",
       "      <td>посёлок Лисий Нос</td>\n",
       "      <td>2</td>\n",
       "      <td>2</td>\n",
       "      <td>2</td>\n",
       "      <td>2</td>\n",
       "    </tr>\n",
       "    <tr>\n",
       "      <td>посёлок Усть-Ижора</td>\n",
       "      <td>2</td>\n",
       "      <td>2</td>\n",
       "      <td>2</td>\n",
       "      <td>2</td>\n",
       "    </tr>\n",
       "    <tr>\n",
       "      <td>посёлок Александровская</td>\n",
       "      <td>2</td>\n",
       "      <td>2</td>\n",
       "      <td>2</td>\n",
       "      <td>2</td>\n",
       "    </tr>\n",
       "    <tr>\n",
       "      <td>поселок Мурино</td>\n",
       "      <td>2</td>\n",
       "      <td>2</td>\n",
       "      <td>2</td>\n",
       "      <td>2</td>\n",
       "    </tr>\n",
       "    <tr>\n",
       "      <td>посёлок Белоостров</td>\n",
       "      <td>1</td>\n",
       "      <td>1</td>\n",
       "      <td>1</td>\n",
       "      <td>1</td>\n",
       "    </tr>\n",
       "    <tr>\n",
       "      <td>посёлок Петро-Славянка</td>\n",
       "      <td>1</td>\n",
       "      <td>1</td>\n",
       "      <td>1</td>\n",
       "      <td>1</td>\n",
       "    </tr>\n",
       "    <tr>\n",
       "      <td>посёлок Левашово</td>\n",
       "      <td>1</td>\n",
       "      <td>1</td>\n",
       "      <td>1</td>\n",
       "      <td>1</td>\n",
       "    </tr>\n",
       "    <tr>\n",
       "      <td>поселок Лисий Нос</td>\n",
       "      <td>1</td>\n",
       "      <td>1</td>\n",
       "      <td>1</td>\n",
       "      <td>1</td>\n",
       "    </tr>\n",
       "    <tr>\n",
       "      <td>посёлок Щеглово</td>\n",
       "      <td>1</td>\n",
       "      <td>1</td>\n",
       "      <td>1</td>\n",
       "      <td>1</td>\n",
       "    </tr>\n",
       "  </tbody>\n",
       "</table>\n",
       "</div>"
      ],
      "text/plain": [
       "                         airports_nearest  cityCenters_nearest  \\\n",
       "locality_name                                                    \n",
       "Санкт-Петербург                     15636                15636   \n",
       "посёлок Шушары                        436                  436   \n",
       "Пушкин                                368                  368   \n",
       "Колпино                               337                  337   \n",
       "посёлок Парголово                     327                  327   \n",
       "Петергоф                              201                  201   \n",
       "Сестрорецк                            183                  183   \n",
       "Красное Село                          176                  176   \n",
       "Ломоносов                             132                  132   \n",
       "Кронштадт                              95                   95   \n",
       "посёлок Металлострой                   66                   66   \n",
       "посёлок Стрельна                       44                   44   \n",
       "unknown                                41                   41   \n",
       "Павловск                               38                   38   \n",
       "Зеленогорск                            24                   24   \n",
       "посёлок Понтонный                      20                   20   \n",
       "посёлок Сапёрный                        6                    6   \n",
       "посёлок Молодёжное                      5                    5   \n",
       "посёлок Песочный                        4                    4   \n",
       "посёлок Репино                          4                    4   \n",
       "посёлок Лисий Нос                       2                    2   \n",
       "посёлок Усть-Ижора                      2                    2   \n",
       "посёлок Александровская                 2                    2   \n",
       "поселок Мурино                          2                    2   \n",
       "посёлок Белоостров                      1                    1   \n",
       "посёлок Петро-Славянка                  1                    1   \n",
       "посёлок Левашово                        1                    1   \n",
       "поселок Лисий Нос                       1                    1   \n",
       "посёлок Щеглово                         1                    1   \n",
       "\n",
       "                         parks_around3000  ponds_around3000  \n",
       "locality_name                                                \n",
       "Санкт-Петербург                     15636             15636  \n",
       "посёлок Шушары                        436               436  \n",
       "Пушкин                                368               368  \n",
       "Колпино                               337               337  \n",
       "посёлок Парголово                     327               327  \n",
       "Петергоф                              201               201  \n",
       "Сестрорецк                            183               183  \n",
       "Красное Село                          176               176  \n",
       "Ломоносов                             132               132  \n",
       "Кронштадт                              95                95  \n",
       "посёлок Металлострой                   66                66  \n",
       "посёлок Стрельна                       44                44  \n",
       "unknown                                41                41  \n",
       "Павловск                               38                38  \n",
       "Зеленогорск                            24                24  \n",
       "посёлок Понтонный                      20                20  \n",
       "посёлок Сапёрный                        6                 6  \n",
       "посёлок Молодёжное                      5                 5  \n",
       "посёлок Песочный                        4                 4  \n",
       "посёлок Репино                          4                 4  \n",
       "посёлок Лисий Нос                       2                 2  \n",
       "посёлок Усть-Ижора                      2                 2  \n",
       "посёлок Александровская                 2                 2  \n",
       "поселок Мурино                          2                 2  \n",
       "посёлок Белоостров                      1                 1  \n",
       "посёлок Петро-Славянка                  1                 1  \n",
       "посёлок Левашово                        1                 1  \n",
       "поселок Лисий Нос                       1                 1  \n",
       "посёлок Щеглово                         1                 1  "
      ]
     },
     "execution_count": 27,
     "metadata": {},
     "output_type": "execute_result"
    }
   ],
   "source": [
    "filled_values"
   ]
  },
  {
   "cell_type": "code",
   "execution_count": 28,
   "metadata": {},
   "outputs": [
    {
     "data": {
      "text/plain": [
       "18156"
      ]
     },
     "execution_count": 28,
     "metadata": {},
     "output_type": "execute_result"
    }
   ],
   "source": [
    "filled_values.airports_nearest.sum()"
   ]
  },
  {
   "cell_type": "code",
   "execution_count": 29,
   "metadata": {},
   "outputs": [
    {
     "data": {
      "text/plain": [
       "0.9986249381222155"
      ]
     },
     "execution_count": 29,
     "metadata": {},
     "output_type": "execute_result"
    }
   ],
   "source": [
    "18156 / 18181"
   ]
  },
  {
   "cell_type": "markdown",
   "metadata": {},
   "source": [
    "*Количество заполненых значений в этих районах составляет практически 100% от всех заполненых значений (потому что в столбце airports_nearest на 24 значения заполнено меньше, чем в других столбцах из выборки, данный столбец сужает выборку). Теперь сделаем фильтр. В него войдут те зачения столбца locality_name, которые не входят в индексы нашей предыдущей таблицы и войдут все столбцы из придыдущей таблицы с отсутствующими значениями:*"
   ]
  },
  {
   "cell_type": "code",
   "execution_count": 30,
   "metadata": {},
   "outputs": [
    {
     "data": {
      "text/plain": [
       "5386"
      ]
     },
     "execution_count": 30,
     "metadata": {},
     "output_type": "execute_result"
    }
   ],
   "source": [
    "df.query('not locality_name in @filled_values.index and airports_nearest.isna() and cityCenters_nearest.isna() and parks_around3000.isna() and ponds_around3000.isna()')['total_images'].count()"
   ]
  },
  {
   "cell_type": "code",
   "execution_count": 31,
   "metadata": {},
   "outputs": [
    {
     "data": {
      "text/plain": [
       "23542"
      ]
     },
     "execution_count": 31,
     "metadata": {},
     "output_type": "execute_result"
    }
   ],
   "source": [
    "18156 + 5386"
   ]
  },
  {
   "cell_type": "code",
   "execution_count": 32,
   "metadata": {},
   "outputs": [
    {
     "data": {
      "text/plain": [
       "0.9933752479007553"
      ]
     },
     "execution_count": 32,
     "metadata": {},
     "output_type": "execute_result"
    }
   ],
   "source": [
    "23542 / 23699"
   ]
  },
  {
   "cell_type": "markdown",
   "metadata": {},
   "source": [
    "*Снова результат достиг почти 100%. Заполнение значений в данных районах происходит потому, что эти районы относятся к пригороду Санкт-Питербурга. Заполним пропущеные значения нулями, так как никакой информации по данным районам у нас нет.*"
   ]
  },
  {
   "cell_type": "code",
   "execution_count": 33,
   "metadata": {},
   "outputs": [],
   "source": [
    "for i in ['airports_nearest', 'cityCenters_nearest', 'parks_around3000', 'ponds_around3000']:    \n",
    "    df.loc[df[i].isna(), i] = df.fillna(0)"
   ]
  },
  {
   "cell_type": "markdown",
   "metadata": {},
   "source": [
    "*В предыдущем блоке мы заполнили пустые значения столбца locality_name значением unknown, но из таблицы с пригородами Санкт-Питербурга мы видим, что unknown присутствует в ней. Проверим, сколько всего значений unknown:*"
   ]
  },
  {
   "cell_type": "code",
   "execution_count": 34,
   "metadata": {},
   "outputs": [
    {
     "data": {
      "text/plain": [
       "49"
      ]
     },
     "execution_count": 34,
     "metadata": {},
     "output_type": "execute_result"
    }
   ],
   "source": [
    "df.query('locality_name == \"unknown\"')['locality_name'].count()"
   ]
  },
  {
   "cell_type": "markdown",
   "metadata": {},
   "source": [
    "*А теперь посмотрим, сколько их в списке с пригородами:*"
   ]
  },
  {
   "cell_type": "code",
   "execution_count": 35,
   "metadata": {},
   "outputs": [
    {
     "data": {
      "text/plain": [
       "49"
      ]
     },
     "execution_count": 35,
     "metadata": {},
     "output_type": "execute_result"
    }
   ],
   "source": [
    "df.query('locality_name in @filled_values.index and locality_name == \"unknown\"')['locality_name'].count()"
   ]
  },
  {
   "cell_type": "markdown",
   "metadata": {},
   "source": [
    "*Видно, что все значения относятся к Санкт-Петербургу, либо к его пригороду. Заполним данные значения модой, то-есть Санкт-Петербург:*"
   ]
  },
  {
   "cell_type": "code",
   "execution_count": 36,
   "metadata": {},
   "outputs": [],
   "source": [
    "df.loc[(df['locality_name'].isin(filled_values.index)) & (df['locality_name'] == 'unknown'), 'locality_name'] = 'Санкт-Петербург'"
   ]
  },
  {
   "cell_type": "markdown",
   "metadata": {},
   "source": [
    "**==================================================================================================================**"
   ]
  },
  {
   "cell_type": "markdown",
   "metadata": {},
   "source": [
    "*Теперь посмотрим на столбцы parks_nearest (расстояние до ближайшего парка (м)). В столбце количество пропусков 65%. Попробуем заполнить данный столбец с помощью столбца parks_around3000. Проверим, равно ли количество строк с пропущеными значениями количеству строк столбца parks_around3000 равных нулю.*"
   ]
  },
  {
   "cell_type": "code",
   "execution_count": 37,
   "metadata": {},
   "outputs": [
    {
     "data": {
      "text/plain": [
       "True"
      ]
     },
     "execution_count": 37,
     "metadata": {},
     "output_type": "execute_result"
    }
   ],
   "source": [
    "df.parks_nearest.isna().sum() == df.query('parks_nearest.isna() and parks_around3000 == 0')['total_images'].count()"
   ]
  },
  {
   "cell_type": "markdown",
   "metadata": {},
   "source": [
    "*Они абсолютно совпадают, а это значит, что расстояние до парка не указано, но указано, что в пределах 3000 метров нет ни одного парка, а значит парков нет. Заполним пустые значения нулями:*"
   ]
  },
  {
   "cell_type": "code",
   "execution_count": 38,
   "metadata": {},
   "outputs": [],
   "source": [
    "df.loc[df['parks_nearest'].isna(), 'parks_nearest'] = df.fillna(0)"
   ]
  },
  {
   "cell_type": "markdown",
   "metadata": {},
   "source": [
    "**==================================================================================================================**"
   ]
  },
  {
   "cell_type": "markdown",
   "metadata": {},
   "source": [
    "*Проделаем тоже самое со столбцом ponds_nearest:*"
   ]
  },
  {
   "cell_type": "code",
   "execution_count": 39,
   "metadata": {},
   "outputs": [
    {
     "data": {
      "text/plain": [
       "True"
      ]
     },
     "execution_count": 39,
     "metadata": {},
     "output_type": "execute_result"
    }
   ],
   "source": [
    "df.ponds_nearest.isna().sum() == df.query('ponds_nearest.isna() and ponds_around3000 == 0')['total_images'].count()"
   ]
  },
  {
   "cell_type": "markdown",
   "metadata": {},
   "source": [
    "*Тоже самое, они совпадают. Заполним пустые значения нулями:*"
   ]
  },
  {
   "cell_type": "code",
   "execution_count": 40,
   "metadata": {},
   "outputs": [],
   "source": [
    "df.loc[df['ponds_nearest'].isna(), 'ponds_nearest'] = df.fillna(0)"
   ]
  },
  {
   "cell_type": "markdown",
   "metadata": {},
   "source": [
    "**==================================================================================================================**"
   ]
  },
  {
   "cell_type": "markdown",
   "metadata": {},
   "source": [
    "*Посмотрим на столбец days_exposition (сколько дней было размещено объявление от публикации до снятия). В столбце days_exposition пропущено 13% значений. Попробуем заполнить пропущенные данные по дате публикации обявления. Сначала переведем столбец first_day_exposition (дата публикации) в тип \"datetime64\":*"
   ]
  },
  {
   "cell_type": "code",
   "execution_count": 41,
   "metadata": {},
   "outputs": [],
   "source": [
    "df['first_day_exposition'] = pd.to_datetime(df['first_day_exposition'], format='%Y.%m.%d')"
   ]
  },
  {
   "cell_type": "markdown",
   "metadata": {},
   "source": [
    "*Теперь построим гистограмму по столбцу first_day_exposition с условием, что значения столбца days_exposition будут NaN:*"
   ]
  },
  {
   "cell_type": "code",
   "execution_count": 42,
   "metadata": {},
   "outputs": [
    {
     "data": {
      "text/plain": [
       "<matplotlib.axes._subplots.AxesSubplot at 0x7f5c0b702b50>"
      ]
     },
     "execution_count": 42,
     "metadata": {},
     "output_type": "execute_result"
    },
    {
     "data": {
      "image/png": "[encoded data removed]",
      "text/plain": [
       "<Figure size 1440x720 with 1 Axes>"
      ]
     },
     "metadata": {
      "needs_background": "light"
     },
     "output_type": "display_data"
    }
   ],
   "source": [
    "from pandas.plotting import register_matplotlib_converters\n",
    "register_matplotlib_converters()\n",
    "df[df['days_exposition'].isna()]['first_day_exposition'].hist(bins=1000, figsize=(20, 10))"
   ]
  },
  {
   "cell_type": "markdown",
   "metadata": {},
   "source": [
    "*Из гистограммы видно, что основаная масса пропущинных значений приходится на 2018-2019 годы. Выведем медианы для 2019 года, отдельно для 2018 года и отдельно для всех остальных:*"
   ]
  },
  {
   "cell_type": "code",
   "execution_count": 43,
   "metadata": {},
   "outputs": [
    {
     "data": {
      "text/plain": [
       "23.000000000000004"
      ]
     },
     "execution_count": 43,
     "metadata": {},
     "output_type": "execute_result"
    }
   ],
   "source": [
    "df[df['first_day_exposition'].dt.year == 2019]['days_exposition'].median()"
   ]
  },
  {
   "cell_type": "code",
   "execution_count": 44,
   "metadata": {},
   "outputs": [
    {
     "data": {
      "text/plain": [
       "64.0"
      ]
     },
     "execution_count": 44,
     "metadata": {},
     "output_type": "execute_result"
    }
   ],
   "source": [
    "df[df['first_day_exposition'].dt.year == 2018]['days_exposition'].median()"
   ]
  },
  {
   "cell_type": "code",
   "execution_count": 45,
   "metadata": {},
   "outputs": [
    {
     "data": {
      "text/plain": [
       "154.0"
      ]
     },
     "execution_count": 45,
     "metadata": {},
     "output_type": "execute_result"
    }
   ],
   "source": [
    "df[(df['first_day_exposition'].dt.year != 2018) & (df['first_day_exposition'].dt.year != 2019)]['days_exposition'].median()"
   ]
  },
  {
   "cell_type": "markdown",
   "metadata": {},
   "source": [
    "*Из вывода видно, что медиана по 2019 году составляет всего 23 дня. Такое число получается, потому что в нашей таблице все продажи уже закрыты, предложений, которые на данный момент находятся в продаже, в нашей таблице нет. А значит, имеют место только быстрые продажи, тат как наша таблица заканчивается 05.2019. В 2018 году медиана составляет 64 дня. Здесь присутствуют быстрые и средние продажи. Ну и во всех остальных годах медиана составляет 154 дня. Здессь присутствуют быстрые, средние и медленные продажи. Заполним пропущенные значения медианой соответственно 2019, 2018 и все остальное:*"
   ]
  },
  {
   "cell_type": "code",
   "execution_count": 46,
   "metadata": {},
   "outputs": [],
   "source": [
    "df.loc[df['first_day_exposition'].dt.year == 2019] = df.fillna(df[df['first_day_exposition'].dt.year == 2019]['days_exposition'].median())"
   ]
  },
  {
   "cell_type": "code",
   "execution_count": 47,
   "metadata": {},
   "outputs": [],
   "source": [
    "df.loc[df['first_day_exposition'].dt.year == 2018] = df.fillna(df[df['first_day_exposition'].dt.year == 2018]['days_exposition'].median())"
   ]
  },
  {
   "cell_type": "code",
   "execution_count": 48,
   "metadata": {},
   "outputs": [],
   "source": [
    "df.loc[(df['first_day_exposition'].dt.year != 2018) & (df['first_day_exposition'].dt.year != 2019)] = df.fillna(df[(df['first_day_exposition'].dt.year != 2018) & (df['first_day_exposition'].dt.year != 2019)]['days_exposition'].median())"
   ]
  },
  {
   "cell_type": "markdown",
   "metadata": {},
   "source": [
    "**==================================================================================================================**"
   ]
  },
  {
   "cell_type": "markdown",
   "metadata": {},
   "source": [
    "*Изменим тип данных в столбцах:*\n",
    "- *last_price - изменим тип столбца на целочисленный, так как цены на квартиры не мальенькие, точность до копеек нам вряд ли пригодится.*\n",
    "- *floors_total - изменим тип столбца на целочисленный, так как общее количество этажей может быть только целым.*\n",
    "- *balcony - изменим тип столбца на целочисленный, так как общее количество балконов может быть только целым.*\n",
    "- *airports_nearest - изменим тип столбца на целочисленный, так как растояние указано в метрах, а расстояние в сантиметрах нам не нужно.*\n",
    "- *cityCenters_nearest - изменим тип столбца на целочисленный, так как растояние указано в метрах, а расстояние в сантиметрах нам не нужно.*\n",
    "- *parks_around3000 - изменим тип столбца на целочисленный, так как количество парков может быть только целым.*\n",
    "- *parks_nearest - изменим тип столбца на целочисленный, так как растояние указано в метрах, а расстояние в сантиметрах нам не нужно.*\n",
    "- *ponds_around3000 - изменим тип столбца на целочисленный, так как количество прудов может быть только целым.*\n",
    "- *ponds_nearest - изменим тип столбца на целочисленный, так как растояние указано в метрах, а расстояние в сантиметрах нам не нужно.*\n",
    "- *days_exposition - изменим тип столбца на целочисленный, так как количество дней, сколько объявление было в публикации, может быть только целым.*"
   ]
  },
  {
   "cell_type": "code",
   "execution_count": 49,
   "metadata": {},
   "outputs": [],
   "source": [
    "type_list = ['last_price', 'floors_total', 'balcony', 'airports_nearest', 'cityCenters_nearest', 'parks_around3000', 'parks_nearest', 'ponds_around3000', 'ponds_nearest', 'days_exposition']"
   ]
  },
  {
   "cell_type": "code",
   "execution_count": 50,
   "metadata": {},
   "outputs": [],
   "source": [
    "for i in type_list:\n",
    "    df[type_list] = df[type_list].astype('int64')"
   ]
  },
  {
   "cell_type": "code",
   "execution_count": 51,
   "metadata": {},
   "outputs": [
    {
     "name": "stdout",
     "output_type": "stream",
     "text": [
      "<class 'pandas.core.frame.DataFrame'>\n",
      "RangeIndex: 23699 entries, 0 to 23698\n",
      "Data columns (total 22 columns):\n",
      "total_images            23699 non-null int64\n",
      "last_price              23699 non-null int64\n",
      "total_area              23699 non-null float64\n",
      "first_day_exposition    23699 non-null datetime64[ns]\n",
      "rooms                   23699 non-null int64\n",
      "ceiling_height          23699 non-null float64\n",
      "floors_total            23699 non-null int64\n",
      "living_area             23699 non-null float64\n",
      "floor                   23699 non-null int64\n",
      "is_apartment            23699 non-null bool\n",
      "studio                  23699 non-null bool\n",
      "open_plan               23699 non-null bool\n",
      "kitchen_area            23699 non-null float64\n",
      "balcony                 23699 non-null int64\n",
      "locality_name           23699 non-null object\n",
      "airports_nearest        23699 non-null int64\n",
      "cityCenters_nearest     23699 non-null int64\n",
      "parks_around3000        23699 non-null int64\n",
      "parks_nearest           23699 non-null int64\n",
      "ponds_around3000        23699 non-null int64\n",
      "ponds_nearest           23699 non-null int64\n",
      "days_exposition         23699 non-null int64\n",
      "dtypes: bool(3), datetime64[ns](1), float64(4), int64(13), object(1)\n",
      "memory usage: 3.5+ MB\n"
     ]
    }
   ],
   "source": [
    "df.info()"
   ]
  },
  {
   "cell_type": "markdown",
   "metadata": {},
   "source": [
    "### Шаг 3. Посчитайте и добавьте в таблицу"
   ]
  },
  {
   "cell_type": "markdown",
   "metadata": {},
   "source": [
    "*Цена квадратного метра:*"
   ]
  },
  {
   "cell_type": "code",
   "execution_count": 52,
   "metadata": {},
   "outputs": [],
   "source": [
    "df['price_per_square_meter'] = df['last_price'] / df['total_area']"
   ]
  },
  {
   "cell_type": "markdown",
   "metadata": {},
   "source": [
    "*Этаж квартиры: первый, последний, другой*"
   ]
  },
  {
   "cell_type": "code",
   "execution_count": 53,
   "metadata": {},
   "outputs": [],
   "source": [
    "df.loc[df['floor'] == 1, 'category_floors'] = 'первый'\n",
    "df.loc[df['floor'] == df['floors_total'], 'category_floors'] = 'последний'\n",
    "df.loc[(df['floor'] != df['floors_total']) & (df['floor'] != 1), 'category_floors'] = 'другой'"
   ]
  },
  {
   "cell_type": "markdown",
   "metadata": {},
   "source": [
    "*Соотношение жилой к общей площади:*"
   ]
  },
  {
   "cell_type": "code",
   "execution_count": 54,
   "metadata": {},
   "outputs": [],
   "source": [
    "df['residential_and_general'] = df['living_area'] / df['total_area']"
   ]
  },
  {
   "cell_type": "markdown",
   "metadata": {},
   "source": [
    "*Соотношение площади кухни к общей площади:*"
   ]
  },
  {
   "cell_type": "code",
   "execution_count": 55,
   "metadata": {},
   "outputs": [],
   "source": [
    "df['kitchen_and_general'] = df['kitchen_area'] / df['total_area']"
   ]
  },
  {
   "cell_type": "markdown",
   "metadata": {},
   "source": [
    "### Шаг 4. Проведите исследовательский анализ данных и выполните инструкции:"
   ]
  },
  {
   "cell_type": "markdown",
   "metadata": {},
   "source": [
    "*Проанализируем значения столбца total_area (площадь квартиры в квадратных метрах) и исключим выбросы. Посмотрим на общие данные с помощью метода \".describe()\" и построим  гистограмму:*"
   ]
  },
  {
   "cell_type": "code",
   "execution_count": 56,
   "metadata": {},
   "outputs": [
    {
     "data": {
      "text/plain": [
       "count    23699.000000\n",
       "mean        60.348651\n",
       "std         35.654083\n",
       "min         12.000000\n",
       "25%         40.000000\n",
       "50%         52.000000\n",
       "75%         69.900000\n",
       "max        900.000000\n",
       "Name: total_area, dtype: float64"
      ]
     },
     "execution_count": 56,
     "metadata": {},
     "output_type": "execute_result"
    }
   ],
   "source": [
    "df['total_area'].describe()"
   ]
  },
  {
   "cell_type": "code",
   "execution_count": 57,
   "metadata": {},
   "outputs": [
    {
     "data": {
      "text/plain": [
       "<matplotlib.axes._subplots.AxesSubplot at 0x7f5c020b2610>"
      ]
     },
     "execution_count": 57,
     "metadata": {},
     "output_type": "execute_result"
    },
    {
     "data": {
      "image/png": "[encoded data removed]",
      "text/plain": [
       "<Figure size 432x288 with 1 Axes>"
      ]
     },
     "metadata": {
      "needs_background": "light"
     },
     "output_type": "display_data"
    }
   ],
   "source": [
    "df['total_area'].hist(bins=30, range=(20, 300))"
   ]
  },
  {
   "cell_type": "markdown",
   "metadata": {},
   "source": [
    "*Из вывода видно, что в таблице присутствуют выбросы (минимальная площадь 12 м², максимальная площадь 900 м², отклонения медианы от средней арифметической). Из гистограммы видно, что основная масса значений приходится на диапазон от 20 до 250 м². Построим гистограмму размаха и проверим гипотезу:*"
   ]
  },
  {
   "cell_type": "code",
   "execution_count": 58,
   "metadata": {},
   "outputs": [
    {
     "data": {
      "text/plain": [
       "(0, 400)"
      ]
     },
     "execution_count": 58,
     "metadata": {},
     "output_type": "execute_result"
    },
    {
     "data": {
      "image/png": "[encoded data removed]",
      "text/plain": [
       "<Figure size 432x288 with 1 Axes>"
      ]
     },
     "metadata": {
      "needs_background": "light"
     },
     "output_type": "display_data"
    }
   ],
   "source": [
    "import matplotlib.pyplot as plt \n",
    "df.boxplot('total_area')\n",
    "plt.ylim(0, 400)"
   ]
  },
  {
   "cell_type": "markdown",
   "metadata": {},
   "source": [
    "*Гистограмма размаха указывает на диапазон от 20 до 300 м², возьмем именно этот диапазон. Посмотрим, какой процент значений охватывает данный диапазон.*"
   ]
  },
  {
   "cell_type": "code",
   "execution_count": 59,
   "metadata": {},
   "outputs": [
    {
     "data": {
      "text/plain": [
       "0.9962867631545634"
      ]
     },
     "execution_count": 59,
     "metadata": {},
     "output_type": "execute_result"
    }
   ],
   "source": [
    "df.query('total_area >= 20 and total_area <= 300')['total_area'].count() / df['total_area'].count()"
   ]
  },
  {
   "cell_type": "markdown",
   "metadata": {},
   "source": [
    "*В 99% случаев общая площадь занимает от 20 до 300 м². Удалим из таблицы все значения, которые не входят в диапазон.*"
   ]
  },
  {
   "cell_type": "code",
   "execution_count": 60,
   "metadata": {},
   "outputs": [],
   "source": [
    "df = df.query('total_area >= 10 and total_area <= 300')"
   ]
  },
  {
   "cell_type": "markdown",
   "metadata": {},
   "source": [
    "**==================================================================================================================**"
   ]
  },
  {
   "cell_type": "markdown",
   "metadata": {},
   "source": [
    "*Проанализируем значения столбца last_price (цена на момент снятия с публикации) и исключим выбросы. Посмотрим на общие данные с помощью метода \".describe()\" и построим гистограмму:*"
   ]
  },
  {
   "cell_type": "code",
   "execution_count": 61,
   "metadata": {},
   "outputs": [
    {
     "data": {
      "text/plain": [
       "count    2.363800e+04\n",
       "mean     6.306195e+06\n",
       "std      7.770379e+06\n",
       "min      1.219000e+04\n",
       "25%      3.400000e+06\n",
       "50%      4.620000e+06\n",
       "75%      6.750000e+06\n",
       "max      3.300000e+08\n",
       "Name: last_price, dtype: float64"
      ]
     },
     "execution_count": 61,
     "metadata": {},
     "output_type": "execute_result"
    }
   ],
   "source": [
    "df['last_price'].describe()"
   ]
  },
  {
   "cell_type": "code",
   "execution_count": 62,
   "metadata": {},
   "outputs": [
    {
     "data": {
      "text/plain": [
       "<matplotlib.axes._subplots.AxesSubplot at 0x7f5c01feec10>"
      ]
     },
     "execution_count": 62,
     "metadata": {},
     "output_type": "execute_result"
    },
    {
     "data": {
      "image/png": "[encoded data removed]",
      "text/plain": [
       "<Figure size 432x288 with 1 Axes>"
      ]
     },
     "metadata": {
      "needs_background": "light"
     },
     "output_type": "display_data"
    }
   ],
   "source": [
    "df['last_price'].hist(bins=100, range=(0, 50000000))"
   ]
  },
  {
   "cell_type": "markdown",
   "metadata": {},
   "source": [
    "*Из вывода видно, что в таблице присутствуют выбросы (минимальная цена 12190р, максимальная цена 763000000р, отклонения медианы от средней арифметической). Из гистограммы видно, что основная масса значений приходится на диапазон от 1000000р до 20000000р. Построим гистограмму размаха и проверим гипотезу:*"
   ]
  },
  {
   "cell_type": "code",
   "execution_count": 63,
   "metadata": {},
   "outputs": [
    {
     "data": {
      "text/plain": [
       "(0, 150000000)"
      ]
     },
     "execution_count": 63,
     "metadata": {},
     "output_type": "execute_result"
    },
    {
     "data": {
      "image/png": "[encoded data removed]",
      "text/plain": [
       "<Figure size 432x288 with 1 Axes>"
      ]
     },
     "metadata": {
      "needs_background": "light"
     },
     "output_type": "display_data"
    }
   ],
   "source": [
    "df.boxplot('last_price')\n",
    "plt.ylim(0, 150000000)"
   ]
  },
  {
   "cell_type": "code",
   "execution_count": 64,
   "metadata": {},
   "outputs": [
    {
     "data": {
      "text/plain": [
       "(0, 5000000)"
      ]
     },
     "execution_count": 64,
     "metadata": {},
     "output_type": "execute_result"
    },
    {
     "data": {
      "image/png": "[encoded data removed]",
      "text/plain": [
       "<Figure size 432x288 with 1 Axes>"
      ]
     },
     "metadata": {
      "needs_background": "light"
     },
     "output_type": "display_data"
    }
   ],
   "source": [
    "df.boxplot('last_price')\n",
    "plt.ylim(0, 5000000)"
   ]
  },
  {
   "cell_type": "markdown",
   "metadata": {},
   "source": [
    "*Гистограмма размаха указывает на диапазон 1000000р до 100000000р, возьмем именно этот диапазон, он выглядит более реальным для рынка недвижимости. Посмотрим, какой процент значений охватывает данный диапазон.*"
   ]
  },
  {
   "cell_type": "code",
   "execution_count": 65,
   "metadata": {},
   "outputs": [
    {
     "data": {
      "text/plain": [
       "0.9895930281749725"
      ]
     },
     "execution_count": 65,
     "metadata": {},
     "output_type": "execute_result"
    }
   ],
   "source": [
    "df.query('last_price >= 1000000 and last_price <= 100000000')['last_price'].count() / df['last_price'].count()"
   ]
  },
  {
   "cell_type": "markdown",
   "metadata": {},
   "source": [
    "*В 98% случаев цена занимает от 1000000р до 100000000р. Удалим из таблицы все значения, которые не входят в диапазон.*"
   ]
  },
  {
   "cell_type": "code",
   "execution_count": 66,
   "metadata": {},
   "outputs": [],
   "source": [
    "df = df.query('last_price >= 1000000 and last_price <= 100000000')"
   ]
  },
  {
   "cell_type": "markdown",
   "metadata": {},
   "source": [
    "**==================================================================================================================**"
   ]
  },
  {
   "cell_type": "markdown",
   "metadata": {},
   "source": [
    "*Проанализируем значения столбца rooms (число комнат) и исключим выбросы. Посмотрим на общие данные с помощью метода \".describe()\" и построим гистограмму:*"
   ]
  },
  {
   "cell_type": "code",
   "execution_count": 67,
   "metadata": {},
   "outputs": [
    {
     "data": {
      "text/plain": [
       "count    23392.000000\n",
       "mean         2.060662\n",
       "std          1.044905\n",
       "min          0.000000\n",
       "25%          1.000000\n",
       "50%          2.000000\n",
       "75%          3.000000\n",
       "max         16.000000\n",
       "Name: rooms, dtype: float64"
      ]
     },
     "execution_count": 67,
     "metadata": {},
     "output_type": "execute_result"
    }
   ],
   "source": [
    "df['rooms'].describe()"
   ]
  },
  {
   "cell_type": "code",
   "execution_count": 68,
   "metadata": {},
   "outputs": [
    {
     "data": {
      "text/plain": [
       "<matplotlib.axes._subplots.AxesSubplot at 0x7f5c0b7e2090>"
      ]
     },
     "execution_count": 68,
     "metadata": {},
     "output_type": "execute_result"
    },
    {
     "data": {
      "image/png": "[encoded data removed]",
      "text/plain": [
       "<Figure size 432x288 with 1 Axes>"
      ]
     },
     "metadata": {
      "needs_background": "light"
     },
     "output_type": "display_data"
    }
   ],
   "source": [
    "df['rooms'].hist(bins=50, range=(0, 10))"
   ]
  },
  {
   "cell_type": "markdown",
   "metadata": {},
   "source": [
    "*Из вывода видно, что в таблице присутствуют выбросы (минимальное количество комнат 0, максимальное количество комнат 19). Из гистограммы видно, что основная масса значений приходится на диапазон от 1 до 6 комнат. Построим гистограмму размаха и проверим гипотезу:*"
   ]
  },
  {
   "cell_type": "code",
   "execution_count": 69,
   "metadata": {},
   "outputs": [
    {
     "data": {
      "text/plain": [
       "(-3, 10)"
      ]
     },
     "execution_count": 69,
     "metadata": {},
     "output_type": "execute_result"
    },
    {
     "data": {
      "image/png": "[encoded data removed]",
      "text/plain": [
       "<Figure size 432x288 with 1 Axes>"
      ]
     },
     "metadata": {
      "needs_background": "light"
     },
     "output_type": "display_data"
    }
   ],
   "source": [
    "df.boxplot('rooms')\n",
    "plt.ylim(-3, 10)"
   ]
  },
  {
   "cell_type": "markdown",
   "metadata": {},
   "source": [
    "*Гистограмма размаха указывает на диапазон от 1 до 6 комнат. Посмотрим, какой процент значений охватывает данный диапазон.*"
   ]
  },
  {
   "cell_type": "code",
   "execution_count": 70,
   "metadata": {},
   "outputs": [
    {
     "data": {
      "text/plain": [
       "0.9890560875512996"
      ]
     },
     "execution_count": 70,
     "metadata": {},
     "output_type": "execute_result"
    }
   ],
   "source": [
    "df.query('rooms >= 1 and rooms <= 6')['rooms'].count() / df['rooms'].count()"
   ]
  },
  {
   "cell_type": "markdown",
   "metadata": {},
   "source": [
    "*В 98% случаев количество комнат составляет от 1 до 6. Сохраним в переменную range_rooms данный диапазон значений и будем использовать эту переменную в дальнейших расчетах.*"
   ]
  },
  {
   "cell_type": "code",
   "execution_count": 71,
   "metadata": {},
   "outputs": [],
   "source": [
    "df = df.query('rooms >= 1 and rooms <= 6')"
   ]
  },
  {
   "cell_type": "markdown",
   "metadata": {},
   "source": [
    "**==================================================================================================================**"
   ]
  },
  {
   "cell_type": "markdown",
   "metadata": {},
   "source": [
    "*Проанализируем значения столбца ceiling_height (высота потолков) и исключим выбросы. Посмотрим на общие данные с помощью метода \".describe()\" и построим гистограмму:*"
   ]
  },
  {
   "cell_type": "code",
   "execution_count": 72,
   "metadata": {},
   "outputs": [
    {
     "data": {
      "text/plain": [
       "count    23136.000000\n",
       "mean         2.721253\n",
       "std          0.985038\n",
       "min          1.000000\n",
       "25%          2.600000\n",
       "50%          2.650000\n",
       "75%          2.700000\n",
       "max        100.000000\n",
       "Name: ceiling_height, dtype: float64"
      ]
     },
     "execution_count": 72,
     "metadata": {},
     "output_type": "execute_result"
    }
   ],
   "source": [
    "df['ceiling_height'].describe()"
   ]
  },
  {
   "cell_type": "code",
   "execution_count": 73,
   "metadata": {},
   "outputs": [
    {
     "data": {
      "text/plain": [
       "<matplotlib.axes._subplots.AxesSubplot at 0x7f5c01cc3310>"
      ]
     },
     "execution_count": 73,
     "metadata": {},
     "output_type": "execute_result"
    },
    {
     "data": {
      "image/png": "[encoded data removed]",
      "text/plain": [
       "<Figure size 432x288 with 1 Axes>"
      ]
     },
     "metadata": {
      "needs_background": "light"
     },
     "output_type": "display_data"
    }
   ],
   "source": [
    "df['ceiling_height'].hist(bins=100, range=(2, 5))"
   ]
  },
  {
   "cell_type": "markdown",
   "metadata": {},
   "source": [
    "*Из вывода видно, что в таблице присутствуют выбросы (минимальная высота потолков 1 м, максимальная высота потолков 100 м). Из гистограммы видно, что основная масса значений приходится на диапазон от 2.5 до 3.5 метров высоты потолков. Построим гистограмму размаха и проверим гипотезу:*"
   ]
  },
  {
   "cell_type": "code",
   "execution_count": 74,
   "metadata": {},
   "outputs": [
    {
     "data": {
      "text/plain": [
       "(2, 6)"
      ]
     },
     "execution_count": 74,
     "metadata": {},
     "output_type": "execute_result"
    },
    {
     "data": {
      "image/png": "[encoded data removed]",
      "text/plain": [
       "<Figure size 432x288 with 1 Axes>"
      ]
     },
     "metadata": {
      "needs_background": "light"
     },
     "output_type": "display_data"
    }
   ],
   "source": [
    "df.boxplot('ceiling_height')\n",
    "plt.ylim(2, 6)"
   ]
  },
  {
   "cell_type": "markdown",
   "metadata": {},
   "source": [
    "*Гистограмма размаха указывает на диапазон от 2.5 до 4.5 метров высоты потолков, мы возьмем от 2.5 до 4 метров, возможно в исторической части Санкт-Питербурга есть потолки в 4 метра. Посмотрим, какой процент значений охватывает данный диапазон.*"
   ]
  },
  {
   "cell_type": "code",
   "execution_count": 75,
   "metadata": {},
   "outputs": [
    {
     "data": {
      "text/plain": [
       "0.9941217150760719"
      ]
     },
     "execution_count": 75,
     "metadata": {},
     "output_type": "execute_result"
    }
   ],
   "source": [
    "df.query('ceiling_height >= 2.5 and ceiling_height <= 4')['ceiling_height'].count() / df['ceiling_height'].count()"
   ]
  },
  {
   "cell_type": "markdown",
   "metadata": {},
   "source": [
    "*В 99% случаев высота потолков составляет от 2.5 до 4 метров. Сохраним в переменную range_ceiling данный диапазон значений и будем использовать эту переменную в дальнейших расчетах.*"
   ]
  },
  {
   "cell_type": "code",
   "execution_count": 76,
   "metadata": {},
   "outputs": [],
   "source": [
    "df = df.query('ceiling_height >= 2.5 and ceiling_height <= 4')"
   ]
  },
  {
   "cell_type": "markdown",
   "metadata": {},
   "source": [
    "**==================================================================================================================**"
   ]
  },
  {
   "cell_type": "markdown",
   "metadata": {},
   "source": [
    "*Изучим время продажи квартиры. Посчитаем среднее и медиану. Построим гистограмму.*"
   ]
  },
  {
   "cell_type": "code",
   "execution_count": 77,
   "metadata": {},
   "outputs": [
    {
     "data": {
      "text/plain": [
       "count    23000.000000\n",
       "mean       163.973130\n",
       "std        209.943057\n",
       "min          1.000000\n",
       "25%         35.000000\n",
       "50%         80.000000\n",
       "75%        199.000000\n",
       "max       1580.000000\n",
       "Name: days_exposition, dtype: float64"
      ]
     },
     "execution_count": 77,
     "metadata": {},
     "output_type": "execute_result"
    }
   ],
   "source": [
    "df.days_exposition.describe()"
   ]
  },
  {
   "cell_type": "code",
   "execution_count": 78,
   "metadata": {},
   "outputs": [
    {
     "data": {
      "text/plain": [
       "<matplotlib.axes._subplots.AxesSubplot at 0x7f5c0161e610>"
      ]
     },
     "execution_count": 78,
     "metadata": {},
     "output_type": "execute_result"
    },
    {
     "data": {
      "image/png": "[encoded data removed]",
      "text/plain": [
       "<Figure size 1440x720 with 1 Axes>"
      ]
     },
     "metadata": {
      "needs_background": "light"
     },
     "output_type": "display_data"
    }
   ],
   "source": [
    "df.days_exposition.hist(bins=500, range=(0, 1000), figsize=(20, 10))"
   ]
  },
  {
   "cell_type": "markdown",
   "metadata": {},
   "source": [
    "*Из вывода видно, что среднее арифметическое в два раза больше медианы, выбросы присутствуют в максимальном значении 1580. Из гистограммы видно, что основная масса значений приходится на диапазон от 1 до 1000 дней. Построим гистограмму размаха и определим диапазон быстрых, средних и медленных продаж:*"
   ]
  },
  {
   "cell_type": "code",
   "execution_count": 79,
   "metadata": {},
   "outputs": [
    {
     "data": {
      "text/plain": [
       "(0, 1600)"
      ]
     },
     "execution_count": 79,
     "metadata": {},
     "output_type": "execute_result"
    },
    {
     "data": {
      "image/png": "[encoded data removed]",
      "text/plain": [
       "<Figure size 432x288 with 1 Axes>"
      ]
     },
     "metadata": {
      "needs_background": "light"
     },
     "output_type": "display_data"
    }
   ],
   "source": [
    "df.boxplot('days_exposition')\n",
    "plt.ylim(0, 1600)"
   ]
  },
  {
   "cell_type": "markdown",
   "metadata": {},
   "source": [
    "*Посмотрим на значения более детально:*"
   ]
  },
  {
   "cell_type": "code",
   "execution_count": 80,
   "metadata": {},
   "outputs": [
    {
     "data": {
      "text/plain": [
       "(0, 50)"
      ]
     },
     "execution_count": 80,
     "metadata": {},
     "output_type": "execute_result"
    },
    {
     "data": {
      "image/png": "[encoded data removed]",
      "text/plain": [
       "<Figure size 432x288 with 1 Axes>"
      ]
     },
     "metadata": {
      "needs_background": "light"
     },
     "output_type": "display_data"
    }
   ],
   "source": [
    "df.boxplot('days_exposition')\n",
    "plt.ylim(0, 50)"
   ]
  },
  {
   "cell_type": "markdown",
   "metadata": {},
   "source": [
    "*Из гистограммы размаха видно, что быстрые продажи лежат в диапазоне от 1 до 35 дней.*"
   ]
  },
  {
   "cell_type": "code",
   "execution_count": 81,
   "metadata": {},
   "outputs": [
    {
     "data": {
      "text/plain": [
       "(30, 300)"
      ]
     },
     "execution_count": 81,
     "metadata": {},
     "output_type": "execute_result"
    },
    {
     "data": {
      "image/png": "[encoded data removed]",
      "text/plain": [
       "<Figure size 432x288 with 1 Axes>"
      ]
     },
     "metadata": {
      "needs_background": "light"
     },
     "output_type": "display_data"
    }
   ],
   "source": [
    "df.boxplot('days_exposition')\n",
    "plt.ylim(30, 300)"
   ]
  },
  {
   "cell_type": "markdown",
   "metadata": {},
   "source": [
    "*Из гистограммы размаха видно, что средние продажи лежат в диапазоне от 35 до 200 дней.*"
   ]
  },
  {
   "cell_type": "code",
   "execution_count": 82,
   "metadata": {},
   "outputs": [
    {
     "data": {
      "text/plain": [
       "(150, 2000)"
      ]
     },
     "execution_count": 82,
     "metadata": {},
     "output_type": "execute_result"
    },
    {
     "data": {
      "image/png": "[encoded data removed]",
      "text/plain": [
       "<Figure size 432x288 with 1 Axes>"
      ]
     },
     "metadata": {
      "needs_background": "light"
     },
     "output_type": "display_data"
    }
   ],
   "source": [
    "df.boxplot('days_exposition')\n",
    "plt.ylim(150, 2000)"
   ]
  },
  {
   "cell_type": "markdown",
   "metadata": {},
   "source": [
    "*Из гистограммы размаха видно, что медленные продажи лежат в диапазоне от 200 до 1500 дней, но мы возмем значения от 200 до 700 дней. Посмотрим какой процент, от всех значений, составляет данный диапазон:*"
   ]
  },
  {
   "cell_type": "code",
   "execution_count": 83,
   "metadata": {},
   "outputs": [
    {
     "data": {
      "text/plain": [
       "0.9637391304347827"
      ]
     },
     "execution_count": 83,
     "metadata": {},
     "output_type": "execute_result"
    }
   ],
   "source": [
    "df.query('days_exposition >= 3 and days_exposition <= 700')['days_exposition'].count() / len(df)"
   ]
  },
  {
   "cell_type": "markdown",
   "metadata": {},
   "source": [
    "*Продажи, которые прошли быстрее чем за 3 дня, будем считать необычайно быстрыми, а те, которые проходили дольше, чем 500 дней - будем считать необычайно долгими. Создадим переменную range_days_exposition (диапазон продаж), в расчетах будем использовать этот диапазон.*"
   ]
  },
  {
   "cell_type": "code",
   "execution_count": 84,
   "metadata": {},
   "outputs": [],
   "source": [
    "df = df.query('days_exposition >= 3 and days_exposition <= 700')"
   ]
  },
  {
   "cell_type": "markdown",
   "metadata": {},
   "source": [
    "**==================================================================================================================**"
   ]
  },
  {
   "cell_type": "markdown",
   "metadata": {},
   "source": [
    "*Посмотрим, зависит ли цена от количества квадратных метров. Построим график:* "
   ]
  },
  {
   "cell_type": "code",
   "execution_count": 85,
   "metadata": {},
   "outputs": [
    {
     "data": {
      "text/plain": [
       "<matplotlib.axes._subplots.AxesSubplot at 0x7f5c0103eb90>"
      ]
     },
     "execution_count": 85,
     "metadata": {},
     "output_type": "execute_result"
    },
    {
     "data": {
      "image/png": "[encoded data removed]",
      "text/plain": [
       "<Figure size 432x288 with 1 Axes>"
      ]
     },
     "metadata": {
      "needs_background": "light"
     },
     "output_type": "display_data"
    }
   ],
   "source": [
    "df.plot(x='total_area', y='last_price', kind='scatter', alpha=0.3, xlim=(0, 200), ylim=(0, 60000000), grid=True)"
   ]
  },
  {
   "cell_type": "markdown",
   "metadata": {},
   "source": [
    "*Из графика видно, что в диапазоне от 20 до 75 квадратных метров, цена не очень сильно зависит от квадратного метра - она может варьироваться от 1 милиона до 15, в редких случаях выше. Начиная с 75 квадратных метров и выше - наблюдается рост цен при увеличении квадратных метров. Посчитаем коэффициент корреляции:*"
   ]
  },
  {
   "cell_type": "code",
   "execution_count": 86,
   "metadata": {},
   "outputs": [
    {
     "data": {
      "text/plain": [
       "0.7503179875696795"
      ]
     },
     "execution_count": 86,
     "metadata": {},
     "output_type": "execute_result"
    }
   ],
   "source": [
    "df.last_price.corr(df.total_area)"
   ]
  },
  {
   "cell_type": "markdown",
   "metadata": {},
   "source": [
    "*Коэффицеент корриляции довольно высокий. Зависимость цены от квадратного метра безусловно присутствует.*"
   ]
  },
  {
   "cell_type": "markdown",
   "metadata": {},
   "source": [
    "**==================================================================================================================**"
   ]
  },
  {
   "cell_type": "markdown",
   "metadata": {},
   "source": [
    "*Посмотрим зависит ли цена от количества комнат. Построим график:*"
   ]
  },
  {
   "cell_type": "code",
   "execution_count": 87,
   "metadata": {},
   "outputs": [
    {
     "data": {
      "text/plain": [
       "<matplotlib.axes._subplots.AxesSubplot at 0x7f5c00fb1490>"
      ]
     },
     "execution_count": 87,
     "metadata": {},
     "output_type": "execute_result"
    },
    {
     "data": {
      "image/png": "[encoded data removed]",
      "text/plain": [
       "<Figure size 432x288 with 1 Axes>"
      ]
     },
     "metadata": {
      "needs_background": "light"
     },
     "output_type": "display_data"
    }
   ],
   "source": [
    "df.plot(x='rooms', y='last_price', kind='scatter', xlim=(0, 7), ylim=(0, 70000000), alpha=1, grid=True)"
   ]
  },
  {
   "cell_type": "markdown",
   "metadata": {},
   "source": [
    "*Из графика видно, что в диапазоне от 1 до 3 комнат цена может не менятся. От 4 до 6 комнат - начинается изменение цены, но оно не устойчиво, так как от 4 комнат начинается падение цены по верхней границе. Посчитаем коэффициент корреляции:*"
   ]
  },
  {
   "cell_type": "code",
   "execution_count": 88,
   "metadata": {},
   "outputs": [
    {
     "data": {
      "text/plain": [
       "0.44192537654611547"
      ]
     },
     "execution_count": 88,
     "metadata": {},
     "output_type": "execute_result"
    }
   ],
   "source": [
    "df.last_price.corr(df.rooms)"
   ]
  },
  {
   "cell_type": "markdown",
   "metadata": {},
   "source": [
    "*Коэффицеент корриляции довольно слабый. Зависимость цены от количества комнат присутствует, но она слабая.*"
   ]
  },
  {
   "cell_type": "markdown",
   "metadata": {},
   "source": [
    "**==================================================================================================================**"
   ]
  },
  {
   "cell_type": "markdown",
   "metadata": {},
   "source": [
    "*Посмотрим зависит ли цена от этажа. Построим сводную таблицу:*"
   ]
  },
  {
   "cell_type": "code",
   "execution_count": 89,
   "metadata": {},
   "outputs": [
    {
     "data": {
      "text/html": [
       "<div>\n",
       "<style scoped>\n",
       "    .dataframe tbody tr th:only-of-type {\n",
       "        vertical-align: middle;\n",
       "    }\n",
       "\n",
       "    .dataframe tbody tr th {\n",
       "        vertical-align: top;\n",
       "    }\n",
       "\n",
       "    .dataframe thead th {\n",
       "        text-align: right;\n",
       "    }\n",
       "</style>\n",
       "<table border=\"1\" class=\"dataframe\">\n",
       "  <thead>\n",
       "    <tr style=\"text-align: right;\">\n",
       "      <th></th>\n",
       "      <th>last_price</th>\n",
       "    </tr>\n",
       "    <tr>\n",
       "      <th>category_floors</th>\n",
       "      <th></th>\n",
       "    </tr>\n",
       "  </thead>\n",
       "  <tbody>\n",
       "    <tr>\n",
       "      <td>другой</td>\n",
       "      <td>6.370133e+06</td>\n",
       "    </tr>\n",
       "    <tr>\n",
       "      <td>последний</td>\n",
       "      <td>6.079093e+06</td>\n",
       "    </tr>\n",
       "    <tr>\n",
       "      <td>первый</td>\n",
       "      <td>4.754842e+06</td>\n",
       "    </tr>\n",
       "  </tbody>\n",
       "</table>\n",
       "</div>"
      ],
      "text/plain": [
       "                   last_price\n",
       "category_floors              \n",
       "другой           6.370133e+06\n",
       "последний        6.079093e+06\n",
       "первый           4.754842e+06"
      ]
     },
     "execution_count": 89,
     "metadata": {},
     "output_type": "execute_result"
    }
   ],
   "source": [
    "(df\n",
    "    .pivot_table(index='category_floors', values='last_price')\n",
    "    .sort_values(by='last_price', ascending=False)\n",
    ")"
   ]
  },
  {
   "cell_type": "markdown",
   "metadata": {},
   "source": [
    "*Из таблицы видно, что средняя цена первого этажа самая низкая, первый этаж самый не привлекательный для покупателей. Потом идет цена последнего этажа, цена на него на порядок выше,чем у первого этажа, но ниже среднерыночной цены. Средняя цена в категории \"другой\" (не первый и не последний) самая высокая. Этаж влияет на цену, если речь идет о первом, последнем или другом этажах.*"
   ]
  },
  {
   "cell_type": "markdown",
   "metadata": {},
   "source": [
    "**==================================================================================================================**"
   ]
  },
  {
   "cell_type": "markdown",
   "metadata": {},
   "source": [
    "*Посмотрим, зависит ли цена от удаленности от центра. Построим график на основании словаря filled_values.index, который мы составили в блоке 2, так как только на этой территории есть информация о расстоянии от центра:*"
   ]
  },
  {
   "cell_type": "code",
   "execution_count": 90,
   "metadata": {},
   "outputs": [
    {
     "data": {
      "text/plain": [
       "<matplotlib.axes._subplots.AxesSubplot at 0x7f5c00fb9850>"
      ]
     },
     "execution_count": 90,
     "metadata": {},
     "output_type": "execute_result"
    },
    {
     "data": {
      "image/png": "[encoded data removed]",
      "text/plain": [
       "<Figure size 432x288 with 1 Axes>"
      ]
     },
     "metadata": {
      "needs_background": "light"
     },
     "output_type": "display_data"
    }
   ],
   "source": [
    "(df\n",
    "    .query('locality_name in @filled_values.index')\n",
    "    .plot(x='cityCenters_nearest', y='last_price', kind='scatter', alpha=1, grid=True)\n",
    ")"
   ]
  },
  {
   "cell_type": "markdown",
   "metadata": {},
   "source": [
    "*Из графика видно, что чем ближе к центру, тем выше цена, но низких цен все также много. Посчитаем коэффициент корреляции:*"
   ]
  },
  {
   "cell_type": "code",
   "execution_count": 91,
   "metadata": {},
   "outputs": [
    {
     "data": {
      "text/plain": [
       "-0.29679880086094723"
      ]
     },
     "execution_count": 91,
     "metadata": {},
     "output_type": "execute_result"
    }
   ],
   "source": [
    "(df\n",
    "    .query('locality_name in @filled_values.index')\n",
    "    .last_price.corr(df.cityCenters_nearest)\n",
    ")"
   ]
  },
  {
   "cell_type": "markdown",
   "metadata": {},
   "source": [
    "*Коэффицеент корриляции довольно слабый. Зависимость цены от удаленности от центра присутствует, но она слабая, возможно это связано с тем, что в центре много ветхого жилья.*"
   ]
  },
  {
   "cell_type": "markdown",
   "metadata": {},
   "source": [
    "**==================================================================================================================**"
   ]
  },
  {
   "cell_type": "markdown",
   "metadata": {},
   "source": [
    "*Посмотрим влияет ли сезонный фактор на цену жилья:*"
   ]
  },
  {
   "cell_type": "code",
   "execution_count": 92,
   "metadata": {},
   "outputs": [
    {
     "data": {
      "text/html": [
       "<div>\n",
       "<style scoped>\n",
       "    .dataframe tbody tr th:only-of-type {\n",
       "        vertical-align: middle;\n",
       "    }\n",
       "\n",
       "    .dataframe tbody tr th {\n",
       "        vertical-align: top;\n",
       "    }\n",
       "\n",
       "    .dataframe thead th {\n",
       "        text-align: right;\n",
       "    }\n",
       "</style>\n",
       "<table border=\"1\" class=\"dataframe\">\n",
       "  <thead>\n",
       "    <tr style=\"text-align: right;\">\n",
       "      <th></th>\n",
       "      <th>last_price</th>\n",
       "    </tr>\n",
       "    <tr>\n",
       "      <th>first_day_exposition</th>\n",
       "      <th></th>\n",
       "    </tr>\n",
       "  </thead>\n",
       "  <tbody>\n",
       "    <tr>\n",
       "      <td>2015-07-24</td>\n",
       "      <td>64900000</td>\n",
       "    </tr>\n",
       "    <tr>\n",
       "      <td>2015-08-20</td>\n",
       "      <td>5196000</td>\n",
       "    </tr>\n",
       "    <tr>\n",
       "      <td>2015-10-01</td>\n",
       "      <td>6800000</td>\n",
       "    </tr>\n",
       "    <tr>\n",
       "      <td>2015-10-31</td>\n",
       "      <td>6500000</td>\n",
       "    </tr>\n",
       "    <tr>\n",
       "      <td>2016-04-09</td>\n",
       "      <td>8600000</td>\n",
       "    </tr>\n",
       "    <tr>\n",
       "      <td>2016-06-23</td>\n",
       "      <td>4400000</td>\n",
       "    </tr>\n",
       "    <tr>\n",
       "      <td>2016-06-30</td>\n",
       "      <td>3890000</td>\n",
       "    </tr>\n",
       "    <tr>\n",
       "      <td>2016-09-09</td>\n",
       "      <td>4180000</td>\n",
       "    </tr>\n",
       "    <tr>\n",
       "      <td>2016-10-29</td>\n",
       "      <td>2950000</td>\n",
       "    </tr>\n",
       "    <tr>\n",
       "      <td>2017-01-27</td>\n",
       "      <td>3250000</td>\n",
       "    </tr>\n",
       "    <tr>\n",
       "      <td>2017-02-26</td>\n",
       "      <td>5400000</td>\n",
       "    </tr>\n",
       "    <tr>\n",
       "      <td>2017-04-24</td>\n",
       "      <td>5000000</td>\n",
       "    </tr>\n",
       "    <tr>\n",
       "      <td>2017-04-28</td>\n",
       "      <td>4050000</td>\n",
       "    </tr>\n",
       "    <tr>\n",
       "      <td>2017-05-12</td>\n",
       "      <td>7100000</td>\n",
       "    </tr>\n",
       "    <tr>\n",
       "      <td>2017-07-01</td>\n",
       "      <td>3550000</td>\n",
       "    </tr>\n",
       "    <tr>\n",
       "      <td>2017-09-28</td>\n",
       "      <td>6120000</td>\n",
       "    </tr>\n",
       "    <tr>\n",
       "      <td>2017-10-26</td>\n",
       "      <td>7200000</td>\n",
       "    </tr>\n",
       "    <tr>\n",
       "      <td>2017-11-02</td>\n",
       "      <td>3700000</td>\n",
       "    </tr>\n",
       "    <tr>\n",
       "      <td>2017-11-16</td>\n",
       "      <td>5050000</td>\n",
       "    </tr>\n",
       "    <tr>\n",
       "      <td>2017-11-18</td>\n",
       "      <td>4650000</td>\n",
       "    </tr>\n",
       "    <tr>\n",
       "      <td>2017-11-23</td>\n",
       "      <td>6700000</td>\n",
       "    </tr>\n",
       "    <tr>\n",
       "      <td>2017-12-13</td>\n",
       "      <td>4170000</td>\n",
       "    </tr>\n",
       "    <tr>\n",
       "      <td>2018-02-19</td>\n",
       "      <td>2200000</td>\n",
       "    </tr>\n",
       "    <tr>\n",
       "      <td>2018-03-14</td>\n",
       "      <td>3200000</td>\n",
       "    </tr>\n",
       "    <tr>\n",
       "      <td>2018-05-23</td>\n",
       "      <td>2900000</td>\n",
       "    </tr>\n",
       "    <tr>\n",
       "      <td>2018-06-19</td>\n",
       "      <td>10000000</td>\n",
       "    </tr>\n",
       "    <tr>\n",
       "      <td>2018-08-27</td>\n",
       "      <td>3300000</td>\n",
       "    </tr>\n",
       "    <tr>\n",
       "      <td>2018-09-10</td>\n",
       "      <td>2890000</td>\n",
       "    </tr>\n",
       "    <tr>\n",
       "      <td>2018-12-04</td>\n",
       "      <td>3350000</td>\n",
       "    </tr>\n",
       "    <tr>\n",
       "      <td>2019-01-09</td>\n",
       "      <td>14200000</td>\n",
       "    </tr>\n",
       "    <tr>\n",
       "      <td>2019-04-18</td>\n",
       "      <td>7915000</td>\n",
       "    </tr>\n",
       "  </tbody>\n",
       "</table>\n",
       "</div>"
      ],
      "text/plain": [
       "                      last_price\n",
       "first_day_exposition            \n",
       "2015-07-24              64900000\n",
       "2015-08-20               5196000\n",
       "2015-10-01               6800000\n",
       "2015-10-31               6500000\n",
       "2016-04-09               8600000\n",
       "2016-06-23               4400000\n",
       "2016-06-30               3890000\n",
       "2016-09-09               4180000\n",
       "2016-10-29               2950000\n",
       "2017-01-27               3250000\n",
       "2017-02-26               5400000\n",
       "2017-04-24               5000000\n",
       "2017-04-28               4050000\n",
       "2017-05-12               7100000\n",
       "2017-07-01               3550000\n",
       "2017-09-28               6120000\n",
       "2017-10-26               7200000\n",
       "2017-11-02               3700000\n",
       "2017-11-16               5050000\n",
       "2017-11-18               4650000\n",
       "2017-11-23               6700000\n",
       "2017-12-13               4170000\n",
       "2018-02-19               2200000\n",
       "2018-03-14               3200000\n",
       "2018-05-23               2900000\n",
       "2018-06-19              10000000\n",
       "2018-08-27               3300000\n",
       "2018-09-10               2890000\n",
       "2018-12-04               3350000\n",
       "2019-01-09              14200000\n",
       "2019-04-18               7915000"
      ]
     },
     "execution_count": 92,
     "metadata": {},
     "output_type": "execute_result"
    }
   ],
   "source": [
    "(df\n",
    "    .query('first_day_exposition.dt.day')\n",
    "    .pivot_table(index='first_day_exposition', values='last_price')\n",
    ")"
   ]
  },
  {
   "cell_type": "markdown",
   "metadata": {},
   "source": [
    "*Осенью 2015 года, наблюдается рост цен, который продлится до середины весны, после чего будет спад. Возможно каждую осень поднимаются цены и падают к лету. Далее цена к осени расти не стала, а рост наблюдается ближе к весне. Летом цена снова падает. Ну значит, весной самая большая цена. К осени снова начинается рост, но это уже не закономерность. Ждем большого роста ближе к весне, но нет, весной цена достигает рекордного минимума. Возможно летом цена поставит еще один рекорд падения, но нет, летом цена достигает рекорда максимума, с осени 2015 года. Возможно рост продолжится осенью и будет новый рекорд, но это мало вероятно. Осенью цена снова провалилась. Чего же ждать от зимы, а зимой цена ставит новый рекорд максимума и резко уходит в штопор. Из графика видно, что цена не зависит ни от месяца, ни от сезона, ни от года.*"
   ]
  },
  {
   "cell_type": "markdown",
   "metadata": {},
   "source": [
    "*Вывод: Самое большое влияние на цену оказывает количество квадратных метров. Затем количество комнат и этаж. Далее - близость к центру, при условии, что это не ветхое и не старое жилье. Ну и самый слабый фактор, влияющий на цену - это сезонность.*"
   ]
  },
  {
   "cell_type": "markdown",
   "metadata": {},
   "source": [
    "**==================================================================================================================**"
   ]
  },
  {
   "cell_type": "markdown",
   "metadata": {},
   "source": [
    "*Выберем 10 населённых пунктов с наибольшим числом объявлений. Состамим словарь с названиями этих населённых пунктов, назовем его most_ads:*"
   ]
  },
  {
   "cell_type": "code",
   "execution_count": 93,
   "metadata": {},
   "outputs": [],
   "source": [
    "most_ads = df.groupby('locality_name')['price_per_square_meter'].count().sort_values(ascending=False).head(10).index"
   ]
  },
  {
   "cell_type": "markdown",
   "metadata": {},
   "source": [
    "*По словарю most_ads выведем среднюю цену квадратного метра в этих населённых пунктах:*"
   ]
  },
  {
   "cell_type": "code",
   "execution_count": 94,
   "metadata": {},
   "outputs": [
    {
     "data": {
      "text/html": [
       "<div>\n",
       "<style scoped>\n",
       "    .dataframe tbody tr th:only-of-type {\n",
       "        vertical-align: middle;\n",
       "    }\n",
       "\n",
       "    .dataframe tbody tr th {\n",
       "        vertical-align: top;\n",
       "    }\n",
       "\n",
       "    .dataframe thead th {\n",
       "        text-align: right;\n",
       "    }\n",
       "</style>\n",
       "<table border=\"1\" class=\"dataframe\">\n",
       "  <thead>\n",
       "    <tr style=\"text-align: right;\">\n",
       "      <th></th>\n",
       "      <th>price_per_square_meter</th>\n",
       "    </tr>\n",
       "    <tr>\n",
       "      <th>locality_name</th>\n",
       "      <th></th>\n",
       "    </tr>\n",
       "  </thead>\n",
       "  <tbody>\n",
       "    <tr>\n",
       "      <td>Санкт-Петербург</td>\n",
       "      <td>113082.174529</td>\n",
       "    </tr>\n",
       "    <tr>\n",
       "      <td>Пушкин</td>\n",
       "      <td>103050.789954</td>\n",
       "    </tr>\n",
       "    <tr>\n",
       "      <td>деревня Кудрово</td>\n",
       "      <td>92394.136106</td>\n",
       "    </tr>\n",
       "    <tr>\n",
       "      <td>посёлок Парголово</td>\n",
       "      <td>90325.065966</td>\n",
       "    </tr>\n",
       "    <tr>\n",
       "      <td>посёлок Мурино</td>\n",
       "      <td>85158.742527</td>\n",
       "    </tr>\n",
       "    <tr>\n",
       "      <td>посёлок Шушары</td>\n",
       "      <td>78412.745995</td>\n",
       "    </tr>\n",
       "    <tr>\n",
       "      <td>Колпино</td>\n",
       "      <td>75282.176513</td>\n",
       "    </tr>\n",
       "    <tr>\n",
       "      <td>Гатчина</td>\n",
       "      <td>69151.721418</td>\n",
       "    </tr>\n",
       "    <tr>\n",
       "      <td>Всеволожск</td>\n",
       "      <td>68820.323158</td>\n",
       "    </tr>\n",
       "    <tr>\n",
       "      <td>Выборг</td>\n",
       "      <td>58824.009124</td>\n",
       "    </tr>\n",
       "  </tbody>\n",
       "</table>\n",
       "</div>"
      ],
      "text/plain": [
       "                   price_per_square_meter\n",
       "locality_name                            \n",
       "Санкт-Петербург             113082.174529\n",
       "Пушкин                      103050.789954\n",
       "деревня Кудрово              92394.136106\n",
       "посёлок Парголово            90325.065966\n",
       "посёлок Мурино               85158.742527\n",
       "посёлок Шушары               78412.745995\n",
       "Колпино                      75282.176513\n",
       "Гатчина                      69151.721418\n",
       "Всеволожск                   68820.323158\n",
       "Выборг                       58824.009124"
      ]
     },
     "execution_count": 94,
     "metadata": {},
     "output_type": "execute_result"
    }
   ],
   "source": [
    "(df\n",
    "    .query('locality_name in @most_ads')\n",
    "    .pivot_table(index='locality_name', values='price_per_square_meter')\n",
    "    .sort_values(by='price_per_square_meter', ascending=False)\n",
    ")"
   ]
  },
  {
   "cell_type": "markdown",
   "metadata": {},
   "source": [
    "*В нашем списке, самая большая цена за квадратный метр в Санкт-Петербурге, а самая маленькая в Выборге.*"
   ]
  },
  {
   "cell_type": "markdown",
   "metadata": {},
   "source": [
    "**==================================================================================================================**"
   ]
  },
  {
   "cell_type": "markdown",
   "metadata": {},
   "source": [
    "*Выясним, какая область входит в центр. Сначала изменим значения столбца с расстоянием до центра, переведем метры в километры и округлим до целых значений:*"
   ]
  },
  {
   "cell_type": "code",
   "execution_count": 95,
   "metadata": {},
   "outputs": [],
   "source": [
    "df['cityCenters_nearest'] = df['cityCenters_nearest'] / 1000\n",
    "df['cityCenters_nearest'] = df['cityCenters_nearest'].astype(int)"
   ]
  },
  {
   "cell_type": "markdown",
   "metadata": {},
   "source": [
    "*Выделим квартиры в Санкт-Петербурге и посчитаем среднюю цену квадратного метра для каждого километра.*"
   ]
  },
  {
   "cell_type": "code",
   "execution_count": 96,
   "metadata": {},
   "outputs": [],
   "source": [
    "St_petersburg = (df\n",
    "    .query('locality_name == \"Санкт-Петербург\"')\n",
    "    .pivot_table(index='cityCenters_nearest', values='last_price')\n",
    "    .head(31)\n",
    ")"
   ]
  },
  {
   "cell_type": "code",
   "execution_count": 97,
   "metadata": {},
   "outputs": [
    {
     "data": {
      "text/html": [
       "<div>\n",
       "<style scoped>\n",
       "    .dataframe tbody tr th:only-of-type {\n",
       "        vertical-align: middle;\n",
       "    }\n",
       "\n",
       "    .dataframe tbody tr th {\n",
       "        vertical-align: top;\n",
       "    }\n",
       "\n",
       "    .dataframe thead th {\n",
       "        text-align: right;\n",
       "    }\n",
       "</style>\n",
       "<table border=\"1\" class=\"dataframe\">\n",
       "  <thead>\n",
       "    <tr style=\"text-align: right;\">\n",
       "      <th></th>\n",
       "      <th>last_price</th>\n",
       "    </tr>\n",
       "    <tr>\n",
       "      <th>cityCenters_nearest</th>\n",
       "      <th></th>\n",
       "    </tr>\n",
       "  </thead>\n",
       "  <tbody>\n",
       "    <tr>\n",
       "      <td>0</td>\n",
       "      <td>1.546554e+07</td>\n",
       "    </tr>\n",
       "    <tr>\n",
       "      <td>1</td>\n",
       "      <td>1.380873e+07</td>\n",
       "    </tr>\n",
       "    <tr>\n",
       "      <td>2</td>\n",
       "      <td>1.311573e+07</td>\n",
       "    </tr>\n",
       "    <tr>\n",
       "      <td>3</td>\n",
       "      <td>1.060788e+07</td>\n",
       "    </tr>\n",
       "    <tr>\n",
       "      <td>4</td>\n",
       "      <td>1.237468e+07</td>\n",
       "    </tr>\n",
       "    <tr>\n",
       "      <td>5</td>\n",
       "      <td>1.262107e+07</td>\n",
       "    </tr>\n",
       "    <tr>\n",
       "      <td>6</td>\n",
       "      <td>1.273051e+07</td>\n",
       "    </tr>\n",
       "    <tr>\n",
       "      <td>7</td>\n",
       "      <td>1.074109e+07</td>\n",
       "    </tr>\n",
       "    <tr>\n",
       "      <td>8</td>\n",
       "      <td>8.398073e+06</td>\n",
       "    </tr>\n",
       "    <tr>\n",
       "      <td>9</td>\n",
       "      <td>6.440237e+06</td>\n",
       "    </tr>\n",
       "    <tr>\n",
       "      <td>10</td>\n",
       "      <td>6.301611e+06</td>\n",
       "    </tr>\n",
       "    <tr>\n",
       "      <td>11</td>\n",
       "      <td>5.951910e+06</td>\n",
       "    </tr>\n",
       "    <tr>\n",
       "      <td>12</td>\n",
       "      <td>5.967365e+06</td>\n",
       "    </tr>\n",
       "    <tr>\n",
       "      <td>13</td>\n",
       "      <td>6.019762e+06</td>\n",
       "    </tr>\n",
       "    <tr>\n",
       "      <td>14</td>\n",
       "      <td>5.754671e+06</td>\n",
       "    </tr>\n",
       "    <tr>\n",
       "      <td>15</td>\n",
       "      <td>5.539116e+06</td>\n",
       "    </tr>\n",
       "    <tr>\n",
       "      <td>16</td>\n",
       "      <td>5.479755e+06</td>\n",
       "    </tr>\n",
       "    <tr>\n",
       "      <td>17</td>\n",
       "      <td>4.857374e+06</td>\n",
       "    </tr>\n",
       "    <tr>\n",
       "      <td>18</td>\n",
       "      <td>5.206339e+06</td>\n",
       "    </tr>\n",
       "    <tr>\n",
       "      <td>19</td>\n",
       "      <td>4.615628e+06</td>\n",
       "    </tr>\n",
       "    <tr>\n",
       "      <td>20</td>\n",
       "      <td>6.381371e+06</td>\n",
       "    </tr>\n",
       "    <tr>\n",
       "      <td>21</td>\n",
       "      <td>5.201708e+06</td>\n",
       "    </tr>\n",
       "    <tr>\n",
       "      <td>22</td>\n",
       "      <td>5.387473e+06</td>\n",
       "    </tr>\n",
       "    <tr>\n",
       "      <td>23</td>\n",
       "      <td>4.149926e+06</td>\n",
       "    </tr>\n",
       "    <tr>\n",
       "      <td>24</td>\n",
       "      <td>3.862235e+06</td>\n",
       "    </tr>\n",
       "    <tr>\n",
       "      <td>25</td>\n",
       "      <td>4.014913e+06</td>\n",
       "    </tr>\n",
       "    <tr>\n",
       "      <td>26</td>\n",
       "      <td>3.575000e+06</td>\n",
       "    </tr>\n",
       "    <tr>\n",
       "      <td>27</td>\n",
       "      <td>8.300000e+06</td>\n",
       "    </tr>\n",
       "    <tr>\n",
       "      <td>28</td>\n",
       "      <td>4.970556e+06</td>\n",
       "    </tr>\n",
       "    <tr>\n",
       "      <td>29</td>\n",
       "      <td>3.833333e+06</td>\n",
       "    </tr>\n",
       "    <tr>\n",
       "      <td>31</td>\n",
       "      <td>4.175000e+06</td>\n",
       "    </tr>\n",
       "  </tbody>\n",
       "</table>\n",
       "</div>"
      ],
      "text/plain": [
       "                       last_price\n",
       "cityCenters_nearest              \n",
       "0                    1.546554e+07\n",
       "1                    1.380873e+07\n",
       "2                    1.311573e+07\n",
       "3                    1.060788e+07\n",
       "4                    1.237468e+07\n",
       "5                    1.262107e+07\n",
       "6                    1.273051e+07\n",
       "7                    1.074109e+07\n",
       "8                    8.398073e+06\n",
       "9                    6.440237e+06\n",
       "10                   6.301611e+06\n",
       "11                   5.951910e+06\n",
       "12                   5.967365e+06\n",
       "13                   6.019762e+06\n",
       "14                   5.754671e+06\n",
       "15                   5.539116e+06\n",
       "16                   5.479755e+06\n",
       "17                   4.857374e+06\n",
       "18                   5.206339e+06\n",
       "19                   4.615628e+06\n",
       "20                   6.381371e+06\n",
       "21                   5.201708e+06\n",
       "22                   5.387473e+06\n",
       "23                   4.149926e+06\n",
       "24                   3.862235e+06\n",
       "25                   4.014913e+06\n",
       "26                   3.575000e+06\n",
       "27                   8.300000e+06\n",
       "28                   4.970556e+06\n",
       "29                   3.833333e+06\n",
       "31                   4.175000e+06"
      ]
     },
     "execution_count": 97,
     "metadata": {},
     "output_type": "execute_result"
    }
   ],
   "source": [
    "St_petersburg"
   ]
  },
  {
   "cell_type": "markdown",
   "metadata": {},
   "source": [
    "*Построим график и посмотрим, как цена изменяется от удаленности от центра. Определим границу, где график сильно меняется — это и будет центральная зона:*"
   ]
  },
  {
   "cell_type": "code",
   "execution_count": 98,
   "metadata": {},
   "outputs": [
    {
     "data": {
      "text/plain": [
       "<matplotlib.axes._subplots.AxesSubplot at 0x7f5c00ec9710>"
      ]
     },
     "execution_count": 98,
     "metadata": {},
     "output_type": "execute_result"
    },
    {
     "data": {
      "image/png": "[encoded data removed]",
      "text/plain": [
       "<Figure size 432x288 with 1 Axes>"
      ]
     },
     "metadata": {
      "needs_background": "light"
     },
     "output_type": "display_data"
    }
   ],
   "source": [
    "St_petersburg.plot(grid=True)"
   ]
  },
  {
   "cell_type": "markdown",
   "metadata": {},
   "source": [
    "*В значении восемь, оси абсцисс, цена резко возрастает на два миллиона - это и есть центральная зона. Выделим сегмент квартир в центре, сохраним в переменную center_St_petersburg:*"
   ]
  },
  {
   "cell_type": "code",
   "execution_count": 99,
   "metadata": {},
   "outputs": [],
   "source": [
    "center_St_petersburg = df.query('locality_name == \"Санкт-Петербург\" and cityCenters_nearest <= 8')"
   ]
  },
  {
   "cell_type": "markdown",
   "metadata": {},
   "source": [
    "**==================================================================================================================**"
   ]
  },
  {
   "cell_type": "markdown",
   "metadata": {},
   "source": [
    "*Проанализируем эту территорию и посмотрим, отличается ли она от всего остального города. Сравним общую площадь. Выведем общую информацию и построим гистограмму сравнения:*"
   ]
  },
  {
   "cell_type": "code",
   "execution_count": 100,
   "metadata": {},
   "outputs": [
    {
     "data": {
      "text/plain": [
       "count    4013.000000\n",
       "mean       82.216394\n",
       "std        41.960099\n",
       "min        12.000000\n",
       "25%        52.000000\n",
       "50%        72.700000\n",
       "75%        99.700000\n",
       "max       300.000000\n",
       "Name: total_area, dtype: float64"
      ]
     },
     "execution_count": 100,
     "metadata": {},
     "output_type": "execute_result"
    }
   ],
   "source": [
    "center_St_petersburg.total_area.describe()"
   ]
  },
  {
   "cell_type": "code",
   "execution_count": 101,
   "metadata": {},
   "outputs": [
    {
     "data": {
      "text/plain": [
       "<matplotlib.axes._subplots.AxesSubplot at 0x7f5c010e3d90>"
      ]
     },
     "execution_count": 101,
     "metadata": {},
     "output_type": "execute_result"
    },
    {
     "data": {
      "image/png": "[encoded data removed]",
      "text/plain": [
       "<Figure size 432x288 with 1 Axes>"
      ]
     },
     "metadata": {
      "needs_background": "light"
     },
     "output_type": "display_data"
    }
   ],
   "source": [
    "ax = df.plot(kind='hist', y='total_area', bins=30, range=(20, 300), linewidth=5, alpha=0.7, histtype='step', grid=True)\n",
    "center_St_petersburg.plot(xlim=(0, 300), ylim=(0, 1000), kind='hist', y='total_area', bins=30, range=(20, 300), linewidth=5, alpha=0.7, histtype='step', grid=True, ax=ax)"
   ]
  },
  {
   "cell_type": "markdown",
   "metadata": {},
   "source": [
    "*Общая площадь на данной территории больше, чем в среднем по рынку. Медиана составляет 72.7 метра, против 52 по рынку. В центре больше жилья с площадью более 250 квадратных метров. Длинный хвост на гистограмме указывает на этот факт.*"
   ]
  },
  {
   "cell_type": "markdown",
   "metadata": {},
   "source": [
    "**==================================================================================================================**"
   ]
  },
  {
   "cell_type": "markdown",
   "metadata": {},
   "source": [
    "*Сравним цену на момент снятия с публикации. Выведем общую информацию и построим гистограмму сравнения:*"
   ]
  },
  {
   "cell_type": "code",
   "execution_count": 102,
   "metadata": {},
   "outputs": [
    {
     "data": {
      "text/plain": [
       "count    4.013000e+03\n",
       "mean     1.169880e+07\n",
       "std      1.060418e+07\n",
       "min      1.600000e+06\n",
       "25%      6.047550e+06\n",
       "50%      8.500000e+06\n",
       "75%      1.285000e+07\n",
       "max      9.900000e+07\n",
       "Name: last_price, dtype: float64"
      ]
     },
     "execution_count": 102,
     "metadata": {},
     "output_type": "execute_result"
    }
   ],
   "source": [
    "center_St_petersburg.last_price.describe()"
   ]
  },
  {
   "cell_type": "code",
   "execution_count": 103,
   "metadata": {},
   "outputs": [
    {
     "data": {
      "text/plain": [
       "<matplotlib.axes._subplots.AxesSubplot at 0x7f5c012ceb90>"
      ]
     },
     "execution_count": 103,
     "metadata": {},
     "output_type": "execute_result"
    },
    {
     "data": {
      "image/png": "[encoded data removed]",
      "text/plain": [
       "<Figure size 432x288 with 1 Axes>"
      ]
     },
     "metadata": {
      "needs_background": "light"
     },
     "output_type": "display_data"
    }
   ],
   "source": [
    "ax = df.plot(kind='hist', y='last_price', bins=100, range=(0, 50000000), linewidth=5, alpha=0.7, histtype='step', grid=True)\n",
    "center_St_petersburg.plot(xlim=(0, 20000000), ylim=(0, 1000), kind='hist', y='last_price', bins=100, range=(0, 50000000), ax=ax, linewidth=5, alpha=0.7, histtype='step', grid=True)"
   ]
  },
  {
   "cell_type": "markdown",
   "metadata": {},
   "source": [
    "*Цена в центре выше, чем в целом по рынку. Медиана поднялась с 4.6 мил до 8.5 мил.*"
   ]
  },
  {
   "cell_type": "markdown",
   "metadata": {},
   "source": [
    "**==================================================================================================================**"
   ]
  },
  {
   "cell_type": "markdown",
   "metadata": {},
   "source": [
    "*Сравним количество комнат. Выведем общую информацию и построим гистограмму сравнения:*"
   ]
  },
  {
   "cell_type": "code",
   "execution_count": 104,
   "metadata": {},
   "outputs": [
    {
     "data": {
      "text/plain": [
       "count    4013.000000\n",
       "mean        2.597807\n",
       "std         1.155297\n",
       "min         1.000000\n",
       "25%         2.000000\n",
       "50%         3.000000\n",
       "75%         3.000000\n",
       "max         6.000000\n",
       "Name: rooms, dtype: float64"
      ]
     },
     "execution_count": 104,
     "metadata": {},
     "output_type": "execute_result"
    }
   ],
   "source": [
    "center_St_petersburg.rooms.describe()"
   ]
  },
  {
   "cell_type": "code",
   "execution_count": 105,
   "metadata": {},
   "outputs": [
    {
     "data": {
      "text/plain": [
       "<matplotlib.axes._subplots.AxesSubplot at 0x7f5c0bd9dc90>"
      ]
     },
     "execution_count": 105,
     "metadata": {},
     "output_type": "execute_result"
    },
    {
     "data": {
      "image/png": "[encoded data removed]",
      "text/plain": [
       "<Figure size 432x288 with 1 Axes>"
      ]
     },
     "metadata": {
      "needs_background": "light"
     },
     "output_type": "display_data"
    }
   ],
   "source": [
    "ax = df.plot(kind='hist', y='rooms', bins=50, range=(0, 7), linewidth=5, alpha=0.7, histtype='step', grid=True)\n",
    "center_St_petersburg.plot(kind='hist', y='rooms', bins=50, range=(0, 7), linewidth=5, alpha=0.7, histtype='step', grid=True, ax=ax)"
   ]
  },
  {
   "cell_type": "markdown",
   "metadata": {},
   "source": [
    "*Среднее количество комнат в центре увеличилось. Медиана поднялась с 2 до 3 комнат.*"
   ]
  },
  {
   "cell_type": "markdown",
   "metadata": {},
   "source": [
    "**==================================================================================================================**"
   ]
  },
  {
   "cell_type": "markdown",
   "metadata": {},
   "source": [
    "*Сравним высоту потолков. Выведем общую информацию и построим гистограмму сравнения:*"
   ]
  },
  {
   "cell_type": "code",
   "execution_count": 106,
   "metadata": {},
   "outputs": [
    {
     "data": {
      "text/plain": [
       "count    4013.000000\n",
       "mean        2.882933\n",
       "std         0.312236\n",
       "min         2.500000\n",
       "25%         2.650000\n",
       "50%         2.750000\n",
       "75%         3.050000\n",
       "max         4.000000\n",
       "Name: ceiling_height, dtype: float64"
      ]
     },
     "execution_count": 106,
     "metadata": {},
     "output_type": "execute_result"
    }
   ],
   "source": [
    "center_St_petersburg.ceiling_height.describe()"
   ]
  },
  {
   "cell_type": "code",
   "execution_count": 107,
   "metadata": {},
   "outputs": [
    {
     "data": {
      "text/plain": [
       "<matplotlib.axes._subplots.AxesSubplot at 0x7f5c0111a590>"
      ]
     },
     "execution_count": 107,
     "metadata": {},
     "output_type": "execute_result"
    },
    {
     "data": {
      "image/png": "[encoded data removed]",
      "text/plain": [
       "<Figure size 432x288 with 1 Axes>"
      ]
     },
     "metadata": {
      "needs_background": "light"
     },
     "output_type": "display_data"
    }
   ],
   "source": [
    "ax = df.plot(kind='hist', y='ceiling_height', bins=100, range=(2, 5), linewidth=5, alpha=0.7, histtype='step', grid=True)\n",
    "center_St_petersburg.plot(xlim=(2, 4), ylim=(0, 8000), kind='hist', y='ceiling_height', bins=100, range=(2, 5), linewidth=5, alpha=0.7, histtype='step', grid=True, ax=ax)"
   ]
  },
  {
   "cell_type": "markdown",
   "metadata": {},
   "source": [
    "*Средняя высота потолков увеличилась. Медиана поднялась с 2.65 до 2.75 метров.*"
   ]
  },
  {
   "cell_type": "markdown",
   "metadata": {},
   "source": [
    "*Вывод: в центральной части все средние показатели больше, чем в целом по рынку.*"
   ]
  },
  {
   "cell_type": "markdown",
   "metadata": {},
   "source": [
    "**==================================================================================================================**"
   ]
  },
  {
   "cell_type": "markdown",
   "metadata": {},
   "source": [
    "*Посмотрим, зависит ли цена от количества квадратных метров в центральной части. Построим график:*"
   ]
  },
  {
   "cell_type": "code",
   "execution_count": 108,
   "metadata": {},
   "outputs": [
    {
     "data": {
      "text/plain": [
       "<matplotlib.axes._subplots.AxesSubplot at 0x7f5c00e17750>"
      ]
     },
     "execution_count": 108,
     "metadata": {},
     "output_type": "execute_result"
    },
    {
     "data": {
      "image/png": "[encoded data removed]",
      "text/plain": [
       "<Figure size 432x288 with 1 Axes>"
      ]
     },
     "metadata": {
      "needs_background": "light"
     },
     "output_type": "display_data"
    }
   ],
   "source": [
    "center_St_petersburg.plot(x='total_area', y='last_price', kind='scatter', alpha=0.1, xlim=(0, 150), ylim=(0, 30000000), grid=True)"
   ]
  },
  {
   "cell_type": "code",
   "execution_count": 109,
   "metadata": {},
   "outputs": [
    {
     "data": {
      "text/plain": [
       "0.7138547536956407"
      ]
     },
     "execution_count": 109,
     "metadata": {},
     "output_type": "execute_result"
    }
   ],
   "source": [
    "center_St_petersburg.last_price.corr(center_St_petersburg.total_area)"
   ]
  },
  {
   "cell_type": "markdown",
   "metadata": {},
   "source": [
    "*Коэффециент корреляции ниже, чем в целом по рынку. Возможно, это связано с тем, что центральная часть привлекательна сама по себе, а остальные факторы играют меньшую роль. Но, все таки, коэффициент высокий и существенно влияющий на стоимость квартиры.*"
   ]
  },
  {
   "cell_type": "markdown",
   "metadata": {},
   "source": [
    "**==================================================================================================================**"
   ]
  },
  {
   "cell_type": "markdown",
   "metadata": {},
   "source": [
    "*Сравним количество комнат в центральной части. Построим гистограмму для сравнения:*"
   ]
  },
  {
   "cell_type": "code",
   "execution_count": 110,
   "metadata": {},
   "outputs": [
    {
     "data": {
      "text/plain": [
       "<matplotlib.axes._subplots.AxesSubplot at 0x7f5c00d8d450>"
      ]
     },
     "execution_count": 110,
     "metadata": {},
     "output_type": "execute_result"
    },
    {
     "data": {
      "image/png": "[encoded data removed]",
      "text/plain": [
       "<Figure size 432x288 with 1 Axes>"
      ]
     },
     "metadata": {
      "needs_background": "light"
     },
     "output_type": "display_data"
    }
   ],
   "source": [
    "center_St_petersburg.plot(x='rooms', y='last_price', kind='scatter', xlim=(0, 7), ylim=(0, 70000000), grid=True)"
   ]
  },
  {
   "cell_type": "code",
   "execution_count": 111,
   "metadata": {},
   "outputs": [
    {
     "data": {
      "text/plain": [
       "0.44192537654611547"
      ]
     },
     "execution_count": 111,
     "metadata": {},
     "output_type": "execute_result"
    }
   ],
   "source": [
    "df.last_price.corr(df.rooms)"
   ]
  },
  {
   "cell_type": "markdown",
   "metadata": {},
   "source": [
    "*Коэффициент корреляции количества комнат ни чем не отличается от коэффициента вцелом по рынку. Также, как и в целом по рынку коэффициент слабый.*"
   ]
  },
  {
   "cell_type": "markdown",
   "metadata": {},
   "source": [
    "**==================================================================================================================**"
   ]
  },
  {
   "cell_type": "markdown",
   "metadata": {},
   "source": [
    "*Посмотрим, зависит ли цена от этажа. Построим сводную таблицу:*"
   ]
  },
  {
   "cell_type": "code",
   "execution_count": 112,
   "metadata": {},
   "outputs": [
    {
     "data": {
      "text/html": [
       "<div>\n",
       "<style scoped>\n",
       "    .dataframe tbody tr th:only-of-type {\n",
       "        vertical-align: middle;\n",
       "    }\n",
       "\n",
       "    .dataframe tbody tr th {\n",
       "        vertical-align: top;\n",
       "    }\n",
       "\n",
       "    .dataframe thead th {\n",
       "        text-align: right;\n",
       "    }\n",
       "</style>\n",
       "<table border=\"1\" class=\"dataframe\">\n",
       "  <thead>\n",
       "    <tr style=\"text-align: right;\">\n",
       "      <th></th>\n",
       "      <th>last_price</th>\n",
       "    </tr>\n",
       "    <tr>\n",
       "      <th>category_floors</th>\n",
       "      <th></th>\n",
       "    </tr>\n",
       "  </thead>\n",
       "  <tbody>\n",
       "    <tr>\n",
       "      <td>другой</td>\n",
       "      <td>1.219305e+07</td>\n",
       "    </tr>\n",
       "    <tr>\n",
       "      <td>последний</td>\n",
       "      <td>1.191875e+07</td>\n",
       "    </tr>\n",
       "    <tr>\n",
       "      <td>первый</td>\n",
       "      <td>8.062338e+06</td>\n",
       "    </tr>\n",
       "  </tbody>\n",
       "</table>\n",
       "</div>"
      ],
      "text/plain": [
       "                   last_price\n",
       "category_floors              \n",
       "другой           1.219305e+07\n",
       "последний        1.191875e+07\n",
       "первый           8.062338e+06"
      ]
     },
     "execution_count": 112,
     "metadata": {},
     "output_type": "execute_result"
    }
   ],
   "source": [
    "(center_St_petersburg\n",
    "    .pivot_table(index='category_floors', values='last_price')\n",
    "    .sort_values(by='last_price', ascending=False)\n",
    ")"
   ]
  },
  {
   "cell_type": "markdown",
   "metadata": {},
   "source": [
    "*Также, как и в целом по рынку, цена на первый и последний этажи ниже, чем на средние. Цена на первый этаж существенно ниже, чем на последний.*"
   ]
  },
  {
   "cell_type": "markdown",
   "metadata": {},
   "source": [
    "**==================================================================================================================**"
   ]
  },
  {
   "cell_type": "markdown",
   "metadata": {},
   "source": [
    "*Цена в центре формируется точно также, как и в целом по рынку. В первую очередь цена формируется за счет того, что это центр. Это главный фактор формирования цены для данной территории.*"
   ]
  },
  {
   "cell_type": "markdown",
   "metadata": {},
   "source": [
    "### Шаг 5. Общий вывод"
   ]
  },
  {
   "cell_type": "markdown",
   "metadata": {},
   "source": [
    "*Самое большое влияние на цену оказывает количество квадратных метров. Затем количество комнат и этаж. Далее близость к центру, при условии, что это не ветхое, старое жилье. Ну и самый слабый фактор, влияющий на цену - это сезонность.*"
   ]
  }
 ],
 "metadata": {
  "kernelspec": {
   "display_name": "Python 3",
   "language": "python",
   "name": "python3"
  },
  "language_info": {
   "codemirror_mode": {
    "name": "ipython",
    "version": 3
   },
   "file_extension": ".py",
   "mimetype": "text/x-python",
   "name": "python",
   "nbconvert_exporter": "python",
   "pygments_lexer": "ipython3",
   "version": "3.7.8"
  },
  "toc": {
   "base_numbering": 1,
   "nav_menu": {},
   "number_sections": false,
   "sideBar": true,
   "skip_h1_title": false,
   "title_cell": "Table of Contents",
   "title_sidebar": "Contents",
   "toc_cell": false,
   "toc_position": {},
   "toc_section_display": true,
   "toc_window_display": false
  }
 },
 "nbformat": 4,
 "nbformat_minor": 2
}
